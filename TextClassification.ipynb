{
 "cells": [
  {
   "cell_type": "markdown",
   "id": "dd3d2338-a179-402a-8d7e-35d0daf6bdc8",
   "metadata": {},
   "source": [
    "## Imports"
   ]
  },
  {
   "cell_type": "code",
   "execution_count": 5,
   "id": "bb6c6540-0eee-4ff0-b169-3d9200a58313",
   "metadata": {},
   "outputs": [],
   "source": [
    "import pandas as pd\n",
    "import numpy as np\n",
    "import bz2\n",
    "from bs4 import BeautifulSoup\n",
    "import re\n",
    "import html\n",
    "import unicodedata\n",
    "import seaborn as sns\n",
    "import matplotlib.pyplot as plt\n",
    "from bs4 import XMLParsedAsHTMLWarning\n",
    "from transformers import BertTokenizer\n",
    "import torch\n",
    "import torch as pt\n",
    "import torch.nn as nn\n",
    "from torch.utils.data import Dataset, DataLoader\n",
    "from torch.optim import AdamW\n",
    "import sklearn\n",
    "from sklearn.model_selection import train_test_split\n",
    "from sklearn.metrics import accuracy_score\n",
    "from sklearn.metrics import classification_report, confusion_matrix\n",
    "from tqdm import tqdm\n",
    "from collections import Counter\n",
    "import gc\n",
    "import json\n",
    "import warnings\n",
    "warnings.filterwarnings(\"ignore\", category=XMLParsedAsHTMLWarning)"
   ]
  },
  {
   "cell_type": "code",
   "execution_count": 2,
   "id": "97b39799-12d8-46a4-80b5-a372e84227b0",
   "metadata": {},
   "outputs": [],
   "source": [
    "torch.cuda.empty_cache()\n",
    "torch.cuda.ipc_collect() "
   ]
  },
  {
   "cell_type": "code",
   "execution_count": 3,
   "id": "f26b1559-9678-4c03-ba10-4ba784fc78a5",
   "metadata": {},
   "outputs": [],
   "source": [
    "gc.collect()\n",
    "torch.cuda.empty_cache()"
   ]
  },
  {
   "cell_type": "markdown",
   "id": "05dabe56-fb20-4c75-9e6e-ecefdbbc7672",
   "metadata": {
    "jp-MarkdownHeadingCollapsed": true
   },
   "source": [
    "## Load Data  "
   ]
  },
  {
   "cell_type": "code",
   "execution_count": 3,
   "id": "eca37fb0-38ff-41e1-8ea2-200d8a6542a9",
   "metadata": {},
   "outputs": [
    {
     "name": "stdout",
     "output_type": "stream",
     "text": [
      "Yahoo Business\thttp://us.rd.yahoo.com/dailynews/rss/business/*http://story.news.yahoo.com/news?tmpl=story2&u=/nm/20040814/bs_nm/column_stocks_week_dc\tWall St. Pullback Reflects Tech Blowout (Reuters)\tnone\tBusiness\tReuters - Wall Street's long-playing drama,\\\n",
      "\n",
      "\"Waiting for Google,\" is about to reach its final act, but its\\\n",
      "\n",
      "stock market debut is ending up as more of a nostalgia event\\\n",
      "\n",
      "than the catalyst for a new era.\t5\t0000-00-00 00:00:00\t\\N\n",
      "\n",
      "Yahoo Business\thttp://us.rd.yahoo.com/dailynews/rss/business/*http://story.news.yahoo.com/news?tmpl=story2&u=/nm/20040814/bs_nm/markets_bears_dc\tWall St. Bears Claw Back Into the Black (Reuters)\tnone\tBusiness\tReuters - Short-sellers, Wall Street's dwindling\\\n",
      "\n",
      "band of ultra-cynics, are seeing green again.\t5\t0000-00-00 00:00:00\t\\N\n",
      "\n",
      "Yahoo Business\thttp://us.rd.yahoo.com/dailynews/rss/business/*http://story.news.yahoo.com/news?tmpl=story2&u=/nm/20040814/bs_nm/column_mergers_dc\tCarlyle Looks Toward Commercial Aerospace (Reuters)\tnone\tBusiness\tReuters - Private investment firm Carlyle Group,\\\n",
      "\n",
      "which has a reputation for making well-timed and occasionally\\\n",
      "\n",
      "controversial plays in the defense industry, has quietly placed\\\n",
      "\n",
      "its bets on another part of the market.\t5\t0000-00-00 00:00:00\t\\N\n",
      "\n"
     ]
    }
   ],
   "source": [
    "with bz2.open(\"newsSpace.bz2\", \"rt\") as f:\n",
    "    for i in range(10):\n",
    "        print(f.readline())"
   ]
  },
  {
   "cell_type": "code",
   "execution_count": 4,
   "id": "8a5df90c-19e3-4fa1-831e-de70b7a79609",
   "metadata": {
    "scrolled": true
   },
   "outputs": [
    {
     "name": "stdout",
     "output_type": "stream",
     "text": [
      "\"Yahoo Business\\thttp://us.rd.yahoo.com/dailynews/rss/business/*http://story.news.yahoo.com/news?tmpl=story2&u=/nm/20040814/bs_nm/column_stocks_week_dc\\tWall St. Pullback Reflects Tech Blowout (Reuters)\\tnone\\tBusiness\\tReuters - Wall Street's long-playing drama,\\\\\\n\"\n",
      "'\"Waiting for Google,\" is about to reach its final act, but its\\\\\\n'\n",
      "'stock market debut is ending up as more of a nostalgia event\\\\\\n'\n",
      "'than the catalyst for a new era.\\t5\\t0000-00-00 00:00:00\\t\\\\N\\n'\n",
      "\"Yahoo Business\\thttp://us.rd.yahoo.com/dailynews/rss/business/*http://story.news.yahoo.com/news?tmpl=story2&u=/nm/20040814/bs_nm/markets_bears_dc\\tWall St. Bears Claw Back Into the Black (Reuters)\\tnone\\tBusiness\\tReuters - Short-sellers, Wall Street's dwindling\\\\\\n\"\n",
      "'band of ultra-cynics, are seeing green again.\\t5\\t0000-00-00 00:00:00\\t\\\\N\\n'\n",
      "'Yahoo Business\\thttp://us.rd.yahoo.com/dailynews/rss/business/*http://story.news.yahoo.com/news?tmpl=story2&u=/nm/20040814/bs_nm/column_mergers_dc\\tCarlyle Looks Toward Commercial Aerospace (Reuters)\\tnone\\tBusiness\\tReuters - Private investment firm Carlyle Group,\\\\\\n'\n",
      "'which has a reputation for making well-timed and occasionally\\\\\\n'\n",
      "'controversial plays in the defense industry, has quietly placed\\\\\\n'\n",
      "'its bets on another part of the market.\\t5\\t0000-00-00 00:00:00\\t\\\\N\\n'\n",
      "\"Yahoo Business\\thttp://us.rd.yahoo.com/dailynews/rss/business/*http://story.news.yahoo.com/news?tmpl=story2&u=/nm/20040814/bs_nm/column_stocks_outlook_dc\\tOil and Economy Cloud Stocks' Outlook (Reuters)\\tnone\\tBusiness\\tReuters - Soaring crude prices plus worries\\\\\\n\"\n",
      "'about the economy and the outlook for earnings are expected to\\\\\\n'\n",
      "'hang over the stock market next week during the depth of the\\\\\\n'\n",
      "'summer doldrums.\\t5\\t0000-00-00 00:00:00\\t\\\\N\\n'\n",
      "'Yahoo Business\\thttp://us.rd.yahoo.com/dailynews/rss/business/*http://story.news.yahoo.com/news?tmpl=story2&u=/nm/20040814/bs_nm/energy_iraq_dc\\tIraq Halts Oil Exports from Main Southern Pipeline (Reuters)\\tnone\\tBusiness\\tReuters - Authorities have halted oil export\\\\\\n'\n",
      "'flows from the main pipeline in southern Iraq after\\\\\\n'\n",
      "'intelligence showed a rebel militia could strike\\\\\\n'\n",
      "'infrastructure, an oil official said on Saturday.\\t5\\t0000-00-00 00:00:00\\t\\\\N\\n'\n",
      "'Yahoo Business\\thttp://us.rd.yahoo.com/dailynews/rss/business/*http://story.news.yahoo.com/news?tmpl=story2&u=/afp/20040815/bs_afp/us_economy\\tOil prices soar to all-time record, posing new menace to US economy (AFP)\\tnone\\tBusiness\\tAFP - Tearaway world oil prices, toppling records and straining wallets, present a new economic menace barely three months before the US presidential elections.\\t5\\t0000-00-00 00:00:00\\t\\\\N\\n'\n",
      "'Yahoo Business\\thttp://us.rd.yahoo.com/dailynews/rss/business/*http://story.news.yahoo.com/news?tmpl=story2&u=/nm/bs_nm/markets_stocks_dc\\tStocks End Up, But Near Year Lows (Reuters)\\tnone\\tBusiness\\tReuters - Stocks ended slightly higher on Friday\\\\\\n'\n",
      "'but stayed near lows for the year as oil prices surged past &#36;46\\\\\\n'\n",
      "'a barrel, offsetting a positive outlook from computer maker\\\\\\n'\n",
      "'Dell Inc. (DELL.O)\\t5\\t0000-00-00 00:00:00\\t\\\\N\\n'\n",
      "\"Yahoo Business\\thttp://us.rd.yahoo.com/dailynews/rss/business/*http://story.news.yahoo.com/news?tmpl=story2&u=/ap/20040812/ap_on_bi_ge/money_funds\\tMoney Funds Fell in Latest Week (AP)\\tnone\\tBusiness\\tAP - Assets of the nation's retail money market mutual funds fell by &#36;1.17 billion in the latest week to &#36;849.98 trillion, the Investment Company Institute said Thursday.\\t5\\t0000-00-00 00:00:00\\t\\\\N\\n\"\n",
      "'Yahoo Business\\thttp://us.rd.yahoo.com/dailynews/rss/business/*http://story.news.yahoo.com/news?tmpl=story2&u=/usatoday/20040813/bs_usatoday/fedminutesshowdissentoverinflation\\tFed minutes show dissent over inflation (USATODAY.com)\\tnone\\tBusiness\\tUSATODAY.com - Retail sales bounced back a bit in July, and new claims for jobless benefits fell last week, the government said Thursday, indicating the economy is improving from a midsummer slump.\\t5\\t0000-00-00 00:00:00\\t\\\\N\\n'\n",
      "'Yahoo Business\\thttp://us.rd.yahoo.com/dailynews/rss/business/*http://story.news.yahoo.com/news?tmpl=story2&u=/fo/20040810/bs_fo/ed994115a1e2df01d08b9d2288796767\\tSafety Net (Forbes.com)\\tnone\\tBusiness\\tForbes.com - After earning a PH.D. in Sociology, Danny Bazil Riley started to work as the general manager at a commercial real estate firm at an annual base salary of &#36;70,000. Soon after, a financial planner stopped by his desk to drop off brochures about insurance benefits available through his employer. But, at 32, \"buying insurance was the furthest thing from my mind,\" says Riley.\\t5\\t0000-00-00 00:00:00\\t\\\\N\\n'\n",
      "\"Reuters Business\\thttp://www.reuters.com/newsArticle.jhtml?type=businessNews&storyID=5977774&src=rss/businessNews&section=news\\tUprising Keeps Iraq Oil Exports Halved\\tnone\\tBusiness\\t BAGHDAD (Reuters) - Iraq's oil exports were still running  at half their normal rate Sunday as instability due to an  anti-U.S. uprising prevented the re-opening of a main pipeline  feeding the country's terminals in the Gulf.\\t5\\t0000-00-00 00:00:00\\t\\\\N\\n\"\n",
      "'Reuters Business\\thttp://www.reuters.com/newsArticle.jhtml?type=businessNews&storyID=5976694&src=rss/businessNews&section=news\\tWall St. Pullback Reflects Tech Blowout\\tnone\\tBusiness\\t NEW YORK (Reuters) - Wall Street\\'s long-playing drama,  \"Waiting for Google,\" is about to reach its final act, but its  stock market debut is ending up as more of a nostalgia event  than the catalyst for a new era.\\t5\\t2004-08-18 22:53:24\\t\\\\N\\n'\n",
      "\"Reuters Business\\thttp://www.reuters.com/newsArticle.jhtml?type=businessNews&storyID=5976574&src=rss/businessNews&section=news\\tWall St. Bears Claw Back Into the Black\\tnone\\tBusiness\\t NEW YORK (Reuters) - Short-sellers, Wall Street's dwindling  band of ultra-cynics, are seeing green again.\\t5\\t0000-00-00 00:00:00\\t\\\\N\\n\"\n",
      "'Reuters Business\\thttp://www.reuters.com/newsArticle.jhtml?type=businessNews&storyID=5976573&src=rss/businessNews&section=news\\tCarlyle Looks Toward Commercial Aerospace\\tnone\\tBusiness\\t NEW YORK (Reuters) - Private investment firm Carlyle Group,  which has a reputation for making well-timed and occasionally  controversial plays in the defense industry, has quietly placed  its bets on another part of the market.\\t5\\t2004-08-18 22:53:27\\t\\\\N\\n'\n",
      "\"Reuters Business\\thttp://www.reuters.com/newsArticle.jhtml?type=businessNews&storyID=5976043&src=rss/businessNews&section=news\\tOil and Economy Cloud Stocks' Outlook\\tnone\\tBusiness\\t NEW YORK (Reuters) - Soaring crude prices plus worries  about the economy and the outlook for earnings are expected to  hang over the stock market next week during the depth of the  summer doldrums.\\t5\\t0000-00-00 00:00:00\\t\\\\N\\n\"\n",
      "'Reuters Business\\thttp://www.reuters.com/newsArticle.jhtml?type=businessNews&storyID=5977017&src=rss/businessNews&section=news\\tGlaxoSmithKline: CFO to Retire in March\\tnone\\tBusiness\\t LONDON (Reuters) - GlaxoSmithKline <GSK.L> Chief Financial  Officer John Coombe is set to retire in March when he turns 60,  the company said on Saturday.\\t5\\t2004-08-18 22:53:29\\t\\\\N\\n'\n",
      "\"Reuters Business\\thttp://www.reuters.com/newsArticle.jhtml?type=businessNews&storyID=5975495&src=rss/businessNews&section=news\\tNo Need for OPEC to Pump More-Iran Gov\\tnone\\tBusiness\\t TEHRAN (Reuters) - OPEC can do nothing to douse scorching  oil prices when markets are already oversupplied by 2.8 million  barrels per day (bpd) of crude, Iran's OPEC governor said  Saturday, warning that prices could fall sharply.\\t5\\t2004-08-18 22:53:32\\t\\\\N\\n\"\n",
      "'Reuters Business\\thttp://www.reuters.com/newsArticle.jhtml?type=businessNews&storyID=5977164&src=rss/businessNews&section=news\\tNon-OPEC Nations Should Up Output-Purnomo\\tnone\\tBusiness\\t JAKARTA (Reuters) - Non-OPEC oil exporters should consider  increasing output to cool record crude prices, OPEC President  Purnomo Yusgiantoro said on Sunday.\\t5\\t2004-08-18 22:53:34\\t\\\\N\\n'\n",
      "\"Reuters Business\\thttp://www.reuters.com/newsArticle.jhtml?type=businessNews&storyID=5974822&src=rss/businessNews&section=news\\tGoogle IPO Auction Off to Rocky Start\\tnone\\tBusiness\\t WASHINGTON/NEW YORK (Reuters) - The auction for Google  Inc.'s highly anticipated initial public offering got off to a  rocky start on Friday after the Web search company sidestepped  a bullet from U.S. securities regulators.\\t5\\t0000-00-00 00:00:00\\t\\\\N\\n\"\n",
      "\"Reuters Business\\thttp://www.reuters.com/newsArticle.jhtml?type=businessNews&storyID=5974615&src=rss/businessNews&section=news\\tDollar Falls Broadly on Record Trade Gap\\tnone\\tBusiness\\t NEW YORK (Reuters) - The dollar tumbled broadly on Friday  after data showing a record U.S. trade deficit in June cast  fresh doubts on the economy's recovery and its ability to draw  foreign capital to fund the growing gap.\\t5\\t2004-08-18 22:53:37\\t\\\\N\\n\"\n",
      "\"Washington Post Business\\thttp://www.washingtonpost.com/wp-dyn/articles/A64482-2004Aug14.html?nav=rss_business\\tRescuing an Old Saver\\tnone\\tBusiness\\tIf you think you may need to help your elderly relatives with their finances, don't be shy about having the money talk -- soon.\\t5\\t2004-08-18 22:53:40\\t\\\\N\\n\"\n",
      "'Washington Post Business\\thttp://www.washingtonpost.com/wp-dyn/articles/A64465-2004Aug14.html?nav=rss_business\\tKids Rule for Back-to-School\\tnone\\tBusiness\\tThe purchasing power of kids is a big part of why the back-to-school season has become such a huge marketing phenomenon.\\t5\\t2004-08-18 22:53:43\\t\\\\N\\n'\n",
      "\"Washington Post Business\\thttp://www.washingtonpost.com/wp-dyn/articles/A64471-2004Aug14.html?nav=rss_business\\tIn a Down Market, Head Toward Value Funds\\tnone\\tBusiness\\tThere is little cause for celebration in the stock market these days, but investors in value-focused mutual funds have reason to feel a bit smug -- if only because they've lost less than the folks who stuck with growth.\\t5\\t2004-08-18 22:53:46\\t\\\\N\\n\"\n",
      "'BBC News Business\\thttp://news.bbc.co.uk/go/click/rss/0.91/public/-/2/hi/business/3562552.stm\\tUS trade deficit swells in June\\tnone\\tBusiness\\tThe US trade deficit has exploded 19% to a record $55.8bn as oil costs drove imports higher, according to a latest figures.\\t5\\t0000-00-00 00:00:00\\t\\\\N\\n'\n",
      "'BBC News Business\\thttp://news.bbc.co.uk/go/click/rss/0.91/public/-/2/hi/business/3562388.stm\\tCrude oil prices jump to new high\\tnone\\tBusiness\\tThe price of crude oil reaches new record levels amid concerns about possible unrest in Venezuela and the threat of sabotage in Iraq.\\t5\\t0000-00-00 00:00:00\\t\\\\N\\n'\n",
      "\"BBC News Business\\thttp://news.bbc.co.uk/go/click/rss/0.91/public/-/2/hi/business/3567244.stm\\tShell 'could be target for Total'\\tnone\\tBusiness\\tOil giant Shell could be bracing itself for a takeover attempt, possibly from French rival Total, a  press report claims.\\t5\\t0000-00-00 00:00:00\\t\\\\N\\n\"\n",
      "\"BBC News Business\\thttp://news.bbc.co.uk/go/click/rss/0.91/public/-/2/hi/business/3563052.stm\\tGoogle IPO faces Playboy slip-up\\tnone\\tBusiness\\tThe bidding gets underway for Google's public offering, despite last-minute worries over an interview with its bosses in Playboy magazine.\\t5\\t0000-00-00 00:00:00\\t\\\\N\\n\"\n",
      "'BBC News Business\\thttp://news.bbc.co.uk/go/click/rss/0.91/public/-/2/hi/business/3561558.stm\\tEurozone economy keeps growing\\tnone\\tBusiness\\tOfficial figures show the 12-nation eurozone economy continues to grow, but there are warnings it may slow down later in the year.\\t5\\t0000-00-00 00:00:00\\t\\\\N\\n'\n",
      "'BBC News Business\\thttp://news.bbc.co.uk/go/click/rss/0.91/public/-/2/hi/business/3561960.stm\\tSwatch dismisses tax allegations\\tnone\\tBusiness\\tSwiss watchmaker Swatch, official timekeeper to the Athens Olympics, denies allegations of tax and customs duty evasion.\\t5\\t0000-00-00 00:00:00\\t\\\\N\\n'\n",
      "'BBC News Business\\thttp://news.bbc.co.uk/go/click/rss/0.91/public/-/2/hi/business/3560848.stm\\tExpansion slows in Japan\\tnone\\tBusiness\\tEconomic growth in Japan slows down as the country experiences a drop in domestic and corporate spending.\\t5\\t0000-00-00 00:00:00\\t\\\\N\\n'\n",
      "'BBC News Business\\thttp://news.bbc.co.uk/go/click/rss/0.91/public/-/2/hi/business/3561292.stm\\tRand falls on shock SA rate cut\\tnone\\tBusiness\\tInterest rates are trimmed to 7.5% by the South African central bank,  but the lack of warning hits the rand and surprises markets.\\t5\\t0000-00-00 00:00:00\\t\\\\N\\n'\n",
      "'BBC News Business\\thttp://news.bbc.co.uk/go/click/rss/0.91/public/-/2/hi/business/3560332.stm\\tCar prices down across the board\\tnone\\tBusiness\\tThe cost of buying both new and second hand cars fell sharply over the past five years, a new survey has found.\\t5\\t0000-00-00 00:00:00\\t\\\\N\\n'\n",
      "\"BBC News Business\\thttp://news.bbc.co.uk/go/click/rss/0.91/public/-/2/hi/business/3558008.stm\\tSouth Korea lowers interest rates\\tnone\\tBusiness\\tSouth Korea's central bank cuts interest rates by a quarter percentage point to 3.5% in a bid to drive growth in the economy.\\t5\\t2004-08-18 22:53:48\\t\\\\N\\n\"\n",
      "'BBC News Business\\thttp://news.bbc.co.uk/go/click/rss/0.91/public/-/2/hi/business/3560672.stm\\tGoogle auction begins on Friday\\tnone\\tBusiness\\tAn auction of shares in Google, the web search engine which could be floated for as much as $36bn, takes place on Friday.\\t5\\t0000-00-00 00:00:00\\t\\\\N\\n'\n"
     ]
    }
   ],
   "source": [
    "with bz2.open(\"newsSpace.bz2\", \"rt\", encoding=\"latin1\", errors=\"replace\") as f:\n",
    "    for i in range(50):\n",
    "        line = f.readline()\n",
    "        print(repr(line))"
   ]
  },
  {
   "cell_type": "code",
   "execution_count": 5,
   "id": "42b5dc76-d884-4981-8ea9-83c0a9b5bfd8",
   "metadata": {},
   "outputs": [],
   "source": [
    "def extract_articles(file_path):\n",
    "    current_record = []\n",
    "    with bz2.open(file_path, \"rt\", encoding=\"latin1\", errors=\"replace\") as f:\n",
    "        for line in f:\n",
    "            current_record.append(line)\n",
    "            if line.endswith(\"\\t\\\\N\\n\"):\n",
    "                yield \"\".join(current_record)\n",
    "                current_record = []"
   ]
  },
  {
   "cell_type": "code",
   "execution_count": 7,
   "id": "15c5dc5d-0812-40b9-af4e-6dcabbaf599b",
   "metadata": {},
   "outputs": [],
   "source": [
    "def parse_article_block(article_block):\n",
    "    collapsed = article_block.replace(\"\\n\", \" \").strip()\n",
    "    fields = collapsed.split(\"\\t\")\n",
    "\n",
    "    expected_fields = 9\n",
    "    if len(fields) < expected_fields:\n",
    "        fields += [None] * (expected_fields - len(fields))\n",
    "    elif len(fields) > expected_fields:\n",
    "        fields = fields[:expected_fields - 1] + [' '.join(fields[expected_fields - 1:])]\n",
    "\n",
    "    return {\n",
    "        \"source\": fields[0] or \"Unknown Source\",\n",
    "        \"url\": fields[1] or \"No URL\",\n",
    "        \"title\": fields[2] or \"Untitled\",\n",
    "        \"subtitle\": fields[3] if fields[3] and fields[3].lower() != \"none\" else None,\n",
    "        \"category\": fields[4] or \"Uncategorized\",\n",
    "        \"content\": fields[5] or \"\",\n",
    "        \"score\": int(fields[6]) if fields[6] and fields[6].isdigit() else None,\n",
    "        \"published_at\": fields[7] if fields[7] and fields[7] != \"0000-00-00 00:00:00\" else None,\n",
    "        \"extra\": None if fields[8] in [r\"\\N\", None] else fields[8]\n",
    "    }"
   ]
  },
  {
   "cell_type": "code",
   "execution_count": 8,
   "id": "68c31b0a-3bda-4c9f-9404-0d1bc77a4f4e",
   "metadata": {},
   "outputs": [],
   "source": [
    "def load_articles(file_path):\n",
    "    articles = []\n",
    "    for block in extract_articles(file_path):\n",
    "        article = parse_article_block(block)\n",
    "        articles.append(article)\n",
    "    return articles"
   ]
  },
  {
   "cell_type": "code",
   "execution_count": 11,
   "id": "c566900c-ad69-46bc-8212-1450a2ea54c5",
   "metadata": {
    "scrolled": true
   },
   "outputs": [],
   "source": [
    "articles = []\n",
    "articles = load_articles(\"newsSpace.bz2\")"
   ]
  },
  {
   "cell_type": "code",
   "execution_count": 12,
   "id": "199e191c-b11b-4e8d-8811-410a9a3c2e51",
   "metadata": {
    "scrolled": true
   },
   "outputs": [
    {
     "data": {
      "text/plain": [
       "[{'source': 'Yahoo Business',\n",
       "  'url': 'http://us.rd.yahoo.com/dailynews/rss/business/*http://story.news.yahoo.com/news?tmpl=story2&u=/nm/20040814/bs_nm/column_stocks_week_dc',\n",
       "  'title': 'Wall St. Pullback Reflects Tech Blowout (Reuters)',\n",
       "  'subtitle': None,\n",
       "  'category': 'Business',\n",
       "  'content': 'Reuters - Wall Street\\'s long-playing drama,\\\\ \"Waiting for Google,\" is about to reach its final act, but its\\\\ stock market debut is ending up as more of a nostalgia event\\\\ than the catalyst for a new era.',\n",
       "  'score': 5,\n",
       "  'published_at': None,\n",
       "  'extra': None},\n",
       " {'source': 'Yahoo Business',\n",
       "  'url': 'http://us.rd.yahoo.com/dailynews/rss/business/*http://story.news.yahoo.com/news?tmpl=story2&u=/nm/20040814/bs_nm/markets_bears_dc',\n",
       "  'title': 'Wall St. Bears Claw Back Into the Black (Reuters)',\n",
       "  'subtitle': None,\n",
       "  'category': 'Business',\n",
       "  'content': \"Reuters - Short-sellers, Wall Street's dwindling\\\\ band of ultra-cynics, are seeing green again.\",\n",
       "  'score': 5,\n",
       "  'published_at': None,\n",
       "  'extra': None},\n",
       " {'source': 'Yahoo Business',\n",
       "  'url': 'http://us.rd.yahoo.com/dailynews/rss/business/*http://story.news.yahoo.com/news?tmpl=story2&u=/nm/20040814/bs_nm/column_mergers_dc',\n",
       "  'title': 'Carlyle Looks Toward Commercial Aerospace (Reuters)',\n",
       "  'subtitle': None,\n",
       "  'category': 'Business',\n",
       "  'content': 'Reuters - Private investment firm Carlyle Group,\\\\ which has a reputation for making well-timed and occasionally\\\\ controversial plays in the defense industry, has quietly placed\\\\ its bets on another part of the market.',\n",
       "  'score': 5,\n",
       "  'published_at': None,\n",
       "  'extra': None},\n",
       " {'source': 'Yahoo Business',\n",
       "  'url': 'http://us.rd.yahoo.com/dailynews/rss/business/*http://story.news.yahoo.com/news?tmpl=story2&u=/nm/20040814/bs_nm/column_stocks_outlook_dc',\n",
       "  'title': \"Oil and Economy Cloud Stocks' Outlook (Reuters)\",\n",
       "  'subtitle': None,\n",
       "  'category': 'Business',\n",
       "  'content': 'Reuters - Soaring crude prices plus worries\\\\ about the economy and the outlook for earnings are expected to\\\\ hang over the stock market next week during the depth of the\\\\ summer doldrums.',\n",
       "  'score': 5,\n",
       "  'published_at': None,\n",
       "  'extra': None},\n",
       " {'source': 'Yahoo Business',\n",
       "  'url': 'http://us.rd.yahoo.com/dailynews/rss/business/*http://story.news.yahoo.com/news?tmpl=story2&u=/nm/20040814/bs_nm/energy_iraq_dc',\n",
       "  'title': 'Iraq Halts Oil Exports from Main Southern Pipeline (Reuters)',\n",
       "  'subtitle': None,\n",
       "  'category': 'Business',\n",
       "  'content': 'Reuters - Authorities have halted oil export\\\\ flows from the main pipeline in southern Iraq after\\\\ intelligence showed a rebel militia could strike\\\\ infrastructure, an oil official said on Saturday.',\n",
       "  'score': 5,\n",
       "  'published_at': None,\n",
       "  'extra': None},\n",
       " {'source': 'Yahoo Business',\n",
       "  'url': 'http://us.rd.yahoo.com/dailynews/rss/business/*http://story.news.yahoo.com/news?tmpl=story2&u=/afp/20040815/bs_afp/us_economy',\n",
       "  'title': 'Oil prices soar to all-time record, posing new menace to US economy (AFP)',\n",
       "  'subtitle': None,\n",
       "  'category': 'Business',\n",
       "  'content': 'AFP - Tearaway world oil prices, toppling records and straining wallets, present a new economic menace barely three months before the US presidential elections.',\n",
       "  'score': 5,\n",
       "  'published_at': None,\n",
       "  'extra': None},\n",
       " {'source': 'Yahoo Business',\n",
       "  'url': 'http://us.rd.yahoo.com/dailynews/rss/business/*http://story.news.yahoo.com/news?tmpl=story2&u=/nm/bs_nm/markets_stocks_dc',\n",
       "  'title': 'Stocks End Up, But Near Year Lows (Reuters)',\n",
       "  'subtitle': None,\n",
       "  'category': 'Business',\n",
       "  'content': 'Reuters - Stocks ended slightly higher on Friday\\\\ but stayed near lows for the year as oil prices surged past &#36;46\\\\ a barrel, offsetting a positive outlook from computer maker\\\\ Dell Inc. (DELL.O)',\n",
       "  'score': 5,\n",
       "  'published_at': None,\n",
       "  'extra': None},\n",
       " {'source': 'Yahoo Business',\n",
       "  'url': 'http://us.rd.yahoo.com/dailynews/rss/business/*http://story.news.yahoo.com/news?tmpl=story2&u=/ap/20040812/ap_on_bi_ge/money_funds',\n",
       "  'title': 'Money Funds Fell in Latest Week (AP)',\n",
       "  'subtitle': None,\n",
       "  'category': 'Business',\n",
       "  'content': \"AP - Assets of the nation's retail money market mutual funds fell by &#36;1.17 billion in the latest week to &#36;849.98 trillion, the Investment Company Institute said Thursday.\",\n",
       "  'score': 5,\n",
       "  'published_at': None,\n",
       "  'extra': None},\n",
       " {'source': 'Yahoo Business',\n",
       "  'url': 'http://us.rd.yahoo.com/dailynews/rss/business/*http://story.news.yahoo.com/news?tmpl=story2&u=/usatoday/20040813/bs_usatoday/fedminutesshowdissentoverinflation',\n",
       "  'title': 'Fed minutes show dissent over inflation (USATODAY.com)',\n",
       "  'subtitle': None,\n",
       "  'category': 'Business',\n",
       "  'content': 'USATODAY.com - Retail sales bounced back a bit in July, and new claims for jobless benefits fell last week, the government said Thursday, indicating the economy is improving from a midsummer slump.',\n",
       "  'score': 5,\n",
       "  'published_at': None,\n",
       "  'extra': None},\n",
       " {'source': 'Yahoo Business',\n",
       "  'url': 'http://us.rd.yahoo.com/dailynews/rss/business/*http://story.news.yahoo.com/news?tmpl=story2&u=/fo/20040810/bs_fo/ed994115a1e2df01d08b9d2288796767',\n",
       "  'title': 'Safety Net (Forbes.com)',\n",
       "  'subtitle': None,\n",
       "  'category': 'Business',\n",
       "  'content': 'Forbes.com - After earning a PH.D. in Sociology, Danny Bazil Riley started to work as the general manager at a commercial real estate firm at an annual base salary of &#36;70,000. Soon after, a financial planner stopped by his desk to drop off brochures about insurance benefits available through his employer. But, at 32, \"buying insurance was the furthest thing from my mind,\" says Riley.',\n",
       "  'score': 5,\n",
       "  'published_at': None,\n",
       "  'extra': None}]"
      ]
     },
     "execution_count": 12,
     "metadata": {},
     "output_type": "execute_result"
    }
   ],
   "source": [
    "articles[:10]"
   ]
  },
  {
   "cell_type": "code",
   "execution_count": 13,
   "id": "7f30cb93-4ae6-4376-af29-c0d750930001",
   "metadata": {},
   "outputs": [],
   "source": [
    "df = pd.DataFrame(articles)\n",
    "df.to_csv(\"articles.csv\", index=False)"
   ]
  },
  {
   "cell_type": "code",
   "execution_count": 14,
   "id": "96855855-6b0b-41f5-a80d-bd8189ea33b0",
   "metadata": {},
   "outputs": [
    {
     "data": {
      "text/html": [
       "<div>\n",
       "<style scoped>\n",
       "    .dataframe tbody tr th:only-of-type {\n",
       "        vertical-align: middle;\n",
       "    }\n",
       "\n",
       "    .dataframe tbody tr th {\n",
       "        vertical-align: top;\n",
       "    }\n",
       "\n",
       "    .dataframe thead th {\n",
       "        text-align: right;\n",
       "    }\n",
       "</style>\n",
       "<table border=\"1\" class=\"dataframe\">\n",
       "  <thead>\n",
       "    <tr style=\"text-align: right;\">\n",
       "      <th></th>\n",
       "      <th>source</th>\n",
       "      <th>url</th>\n",
       "      <th>title</th>\n",
       "      <th>subtitle</th>\n",
       "      <th>category</th>\n",
       "      <th>content</th>\n",
       "      <th>score</th>\n",
       "      <th>published_at</th>\n",
       "      <th>extra</th>\n",
       "    </tr>\n",
       "  </thead>\n",
       "  <tbody>\n",
       "    <tr>\n",
       "      <th>0</th>\n",
       "      <td>Yahoo Business</td>\n",
       "      <td>http://us.rd.yahoo.com/dailynews/rss/business/...</td>\n",
       "      <td>Wall St. Pullback Reflects Tech Blowout (Reuters)</td>\n",
       "      <td>None</td>\n",
       "      <td>Business</td>\n",
       "      <td>Reuters - Wall Street's long-playing drama,\\ \"...</td>\n",
       "      <td>5.0</td>\n",
       "      <td>None</td>\n",
       "      <td>None</td>\n",
       "    </tr>\n",
       "    <tr>\n",
       "      <th>1</th>\n",
       "      <td>Yahoo Business</td>\n",
       "      <td>http://us.rd.yahoo.com/dailynews/rss/business/...</td>\n",
       "      <td>Wall St. Bears Claw Back Into the Black (Reuters)</td>\n",
       "      <td>None</td>\n",
       "      <td>Business</td>\n",
       "      <td>Reuters - Short-sellers, Wall Street's dwindli...</td>\n",
       "      <td>5.0</td>\n",
       "      <td>None</td>\n",
       "      <td>None</td>\n",
       "    </tr>\n",
       "    <tr>\n",
       "      <th>2</th>\n",
       "      <td>Yahoo Business</td>\n",
       "      <td>http://us.rd.yahoo.com/dailynews/rss/business/...</td>\n",
       "      <td>Carlyle Looks Toward Commercial Aerospace (Reu...</td>\n",
       "      <td>None</td>\n",
       "      <td>Business</td>\n",
       "      <td>Reuters - Private investment firm Carlyle Grou...</td>\n",
       "      <td>5.0</td>\n",
       "      <td>None</td>\n",
       "      <td>None</td>\n",
       "    </tr>\n",
       "    <tr>\n",
       "      <th>3</th>\n",
       "      <td>Yahoo Business</td>\n",
       "      <td>http://us.rd.yahoo.com/dailynews/rss/business/...</td>\n",
       "      <td>Oil and Economy Cloud Stocks' Outlook (Reuters)</td>\n",
       "      <td>None</td>\n",
       "      <td>Business</td>\n",
       "      <td>Reuters - Soaring crude prices plus worries\\ a...</td>\n",
       "      <td>5.0</td>\n",
       "      <td>None</td>\n",
       "      <td>None</td>\n",
       "    </tr>\n",
       "    <tr>\n",
       "      <th>4</th>\n",
       "      <td>Yahoo Business</td>\n",
       "      <td>http://us.rd.yahoo.com/dailynews/rss/business/...</td>\n",
       "      <td>Iraq Halts Oil Exports from Main Southern Pipe...</td>\n",
       "      <td>None</td>\n",
       "      <td>Business</td>\n",
       "      <td>Reuters - Authorities have halted oil export\\ ...</td>\n",
       "      <td>5.0</td>\n",
       "      <td>None</td>\n",
       "      <td>None</td>\n",
       "    </tr>\n",
       "  </tbody>\n",
       "</table>\n",
       "</div>"
      ],
      "text/plain": [
       "           source                                                url  \\\n",
       "0  Yahoo Business  http://us.rd.yahoo.com/dailynews/rss/business/...   \n",
       "1  Yahoo Business  http://us.rd.yahoo.com/dailynews/rss/business/...   \n",
       "2  Yahoo Business  http://us.rd.yahoo.com/dailynews/rss/business/...   \n",
       "3  Yahoo Business  http://us.rd.yahoo.com/dailynews/rss/business/...   \n",
       "4  Yahoo Business  http://us.rd.yahoo.com/dailynews/rss/business/...   \n",
       "\n",
       "                                               title subtitle  category  \\\n",
       "0  Wall St. Pullback Reflects Tech Blowout (Reuters)     None  Business   \n",
       "1  Wall St. Bears Claw Back Into the Black (Reuters)     None  Business   \n",
       "2  Carlyle Looks Toward Commercial Aerospace (Reu...     None  Business   \n",
       "3    Oil and Economy Cloud Stocks' Outlook (Reuters)     None  Business   \n",
       "4  Iraq Halts Oil Exports from Main Southern Pipe...     None  Business   \n",
       "\n",
       "                                             content  score published_at extra  \n",
       "0  Reuters - Wall Street's long-playing drama,\\ \"...    5.0         None  None  \n",
       "1  Reuters - Short-sellers, Wall Street's dwindli...    5.0         None  None  \n",
       "2  Reuters - Private investment firm Carlyle Grou...    5.0         None  None  \n",
       "3  Reuters - Soaring crude prices plus worries\\ a...    5.0         None  None  \n",
       "4  Reuters - Authorities have halted oil export\\ ...    5.0         None  None  "
      ]
     },
     "execution_count": 14,
     "metadata": {},
     "output_type": "execute_result"
    }
   ],
   "source": [
    "df.head()"
   ]
  },
  {
   "cell_type": "markdown",
   "id": "e24de831-3463-4d62-8e92-e0e34122e7ba",
   "metadata": {},
   "source": [
    "## Data Cleaning"
   ]
  },
  {
   "cell_type": "code",
   "execution_count": 2,
   "id": "1703c19b-ce6e-4c60-b83e-413b41fc5f1d",
   "metadata": {},
   "outputs": [],
   "source": [
    "df = pd.read_csv(\"articles.csv\")"
   ]
  },
  {
   "cell_type": "code",
   "execution_count": 19,
   "id": "8214292a-52a6-4807-9159-be9b34ca4bf9",
   "metadata": {},
   "outputs": [],
   "source": [
    "def clean(text):\n",
    "    text = BeautifulSoup(text, \"html.parser\").get_text()\n",
    "    text = html.unescape(text)\n",
    "    text = text.replace(\"/\", \" \")\n",
    "    text = unicodedata.normalize(\"NFKD\", text)\n",
    "    text = text.encode(\"ascii\", \"ignore\").decode(\"ascii\")\n",
    "    text = re.sub(r\"[^a-zA-Z0-9.,!?;:'\\\"()\\-\\s]\", \"\", text)\n",
    "    text = re.sub(r\"\\s+\", \" \", text).strip()\n",
    "    \n",
    "    return text if text else None"
   ]
  },
  {
   "cell_type": "markdown",
   "id": "de805a90-d4bd-4539-9ac6-f5ff9f775fd1",
   "metadata": {},
   "source": [
    "### Focus on the \"content\" column"
   ]
  },
  {
   "cell_type": "code",
   "execution_count": 4,
   "id": "4cea0b10-6ae6-48a2-8063-6af9edae1c6b",
   "metadata": {},
   "outputs": [
    {
     "name": "stdout",
     "output_type": "stream",
     "text": [
      "Number of articles with 'none' content: 4469\n",
      "Number of articles with missing content: 22\n",
      "Number of articles with no content at all: 0\n",
      "Number of rows inside the dataframe: 1281103\n"
     ]
    }
   ],
   "source": [
    "print(f\"Number of articles with 'none' content: {(df['content'] == \"none\").sum()}\")\n",
    "print(f\"Number of articles with missing content: {(df['content'].isna()).sum()}\")\n",
    "print(f\"Number of articles with no content at all: {(df['content'] == \"\").sum()}\")\n",
    "print(f\"Number of rows inside the dataframe: {len(df)}\")"
   ]
  },
  {
   "cell_type": "code",
   "execution_count": 10,
   "id": "03ce781b-82d0-4fe2-9428-b24d6c8e5e73",
   "metadata": {},
   "outputs": [],
   "source": [
    "df = df[~df['content'].isin([\"none\", \"\\\\N\", \"\"])]\n",
    "df = df.dropna(subset=['content'])\n",
    "df['content'] = df['content'].apply(clean)\n",
    "df = df.dropna(subset=['content'])"
   ]
  },
  {
   "cell_type": "code",
   "execution_count": 11,
   "id": "8c898a00-3d4d-41f8-b601-1180cebb2970",
   "metadata": {},
   "outputs": [
    {
     "name": "stdout",
     "output_type": "stream",
     "text": [
      "count    1.238234e+06\n",
      "mean     1.803667e+02\n",
      "std      2.081738e+02\n",
      "min      1.000000e+00\n",
      "25%      1.140000e+02\n",
      "50%      1.730000e+02\n",
      "75%      2.140000e+02\n",
      "max      2.257200e+04\n",
      "Name: content_length, dtype: float64\n"
     ]
    }
   ],
   "source": [
    "df['content_length'] = df['content'].astype(str).apply(len)\n",
    "stats = df['content_length'].describe()\n",
    "print(stats)"
   ]
  },
  {
   "cell_type": "code",
   "execution_count": 13,
   "id": "2fd33ccf-8877-4369-a414-2e926b69e1ba",
   "metadata": {},
   "outputs": [
    {
     "data": {
      "text/plain": [
       "'d'"
      ]
     },
     "execution_count": 13,
     "metadata": {},
     "output_type": "execute_result"
    }
   ],
   "source": [
    "df[df['content_length'] == df['content_length'].min()]['content'].values[0]"
   ]
  },
  {
   "cell_type": "code",
   "execution_count": 12,
   "id": "af41f8af-c183-42bb-a87e-fdd6d7c4590d",
   "metadata": {
    "scrolled": true
   },
   "outputs": [
    {
     "data": {
      "text/plain": [
       "'Imagine how different the tech industry might have been had Gary Kildall accepted IBM\\'s offer, back in 1980, to license his computer operating system for a top-secret project. CPM would have been the OS that shipped with the original IBM PC, and the world might never have heard the name of Kildall\\'s competitor, who eventually accepted the contract: a Mr. Bill Gates. For all the amazing advances that the computing industry has brought us over the years, some of its most pivotal moments are memorable for all the wrong reasons. Not every idea can be a winner, and not even Microsoft can avoid every misstep. But as they say, those who forget history are doomed to repeat it -- and then again, others just keep screwing up. In the interest of schadenfreude, then, here is a look back at the last 20 years\\' worth of blunders, fumbles, also-rans, and downright disasters that you may have forgotten about -- or wish you could.Top tech flops Nos. 21-25: PS2, VR, compression wars, ... Top tech flops Nos. 16-20: Copland, Gnu Hurd, Oracle Raw Iron, ... Top tech flops Nos. 11-15: Palm OS Cobalt, Netscape 6, search engines, ... Top tech flops Nos. 6-10: Itanium, Mac clones, e-currency, ... Top tech flops Nos. 1-5: DRM, paperless office, iPod imitators, ...Tech\\'s all-time top 25 flops: No. 21 to 25 25. IBM PS2. The original IBM PC hit the market like lightning in 1981. Unlike earlier IBM computers, it was built with off-the-shelf parts instead of proprietary components, making it the most affordable business machine yet. But by the late 1980s, IBM found itself edged out of the market by Compaq and the other PC clone makers. Its solution? Try again with proprietary components, of course! The Personal System2 series, introduced in 1987, was meant to be \"software compatible\" with the PC, but its Micro Channel Architecture made it incompatible with existing hardware. The clones had no such problem. Like the disastrous PCjr before it and the PS1 series to follow, the PS2 convinced customers that lightning would never strike twice in IBM\\'s PC division.24. Virtual reality. In 1982, the movie \"Tron\" imagined a man traveling the eerie internal landscapes of a computer. Fifteen years later, the technology arrived to make it happen -- sort of.Building a spatial interface for the Internet was all the rage in the late 1990s, owing in part to VRML (Virtual Reality Markup Language). The problem was, it didn\\'t make much sense. The Web put the world of information at your fingertips; leave it to software engineers to find a way to send it back down the street, across a bridge, and up two flights of stairs.The concept lives on today in Second Life, which seems to think the problem is not enough advertising. But the truth is that mainstream users have never warmed to VR. Wake us up when we can ride real lightcycles to work and meet our clients on the Game Grid.23. Compression wars. What do you do when another software company copies your code and releases an improved version of your own product? Sue them into the ground, right? That\\'s what System Enhancement Associates (SEA) thought in the 1980s, when Phil Katz released a clone of SEA\\'s archive compression program, Arc.Katz\\'s hand-optimized assembly language provided better performance than the original Arc, but because Katz had borrowed code from SEA\\'s product, SEA successfully sued for copyright infringement. Customers, however, felt betrayed. They saw SEA as a bully trying to stifle Katz\\'s superior software. When Katz came up with his own high-performance archive format in 1989 -- called Zip -- they ditched Arc in droves, and SEA\\'s business never recovered.22. Apple OpenDoc. Long before the Cocoa and Carbon APIs earned raves from Mac OS X application developers, Apple put its weight behind another innovative programming technology. Called OpenDoc, it was a way for developers to build applications out of lightweight, modular components. After all, what is a word processor but a text editor, a spell checker, a file manager, and a few other modules all thrown together? With OpenDoc, developers could mix and match, building their applications out of all the best bits.Unfortunately, the concept never caught on. As it turned out, most applications weren\\'t really as modular under the hood as they appeared on the surface -- and it didn\\'t help that those so-called lightweight components turned out to be memory hogs that ran like molasses. After five short years, the book on OpenDoc was closed.21. Push technology. In 1992, PointCast had a clever idea: Why not make it possible to view stock quotes, headlines, and other information in real time, without browsing the Web? Instead, the PointCast client would \"push\" the information direct to the desktop, all day long.The idea spawned a horde of imitators. Unfortunately, no one foresaw the strain that all that pushing would place on the limited Internet connections of the time. Network managers banned the client, and modem-based home users balked at the ads being pushed to them along with their sports scores.News Corp. once offered 450 million for PointCast. Two years later, the push craze had evaporated, and it sold for a paltry 10 million.Top tech flops Nos. 21-25: PS2, VR, compression wars, ... Top tech flops Nos. 16-20: Copland, Gnu Hurd, Oracle Raw Iron, ... Top tech flops Nos. 11-15: Palm OS Cobalt, Netscape 6, search engines, ... Top tech flops Nos. 6-10: Itanium, Mac clones, e-currency, ... Top tech flops Nos. 1-5: DRM, paperless office, iPod imitators, ...Tech\\'s all-time top 25 flops: No. 16 to 20 20. Copland. Some fumbles can be recovered. And it\\'s true; today, Mac OS X is an impressive operating system. But imagine how much further Apple could have gone if it had delivered its next-gen OS when it originally intended to, back in 1995. Copland was meant to be the modern successor to the original Mac OS, but years of political infighting had hobbled Apple\\'s development department. For all its superior engineering talent, it became clear that it was impossible for Apple to produce a modernized Mac OS on its own. Instead, it would buy Steve Jobs\\' NeXT OS and use that as the basis for the Mac OS X that ultimately shipped in 1999 -- ironic, considering that Jobs had left Apple over political infighting a decade earlier.19. Gnu Hurd. When Richard Stallman launched the Gnu project in 1983, his goal was to build the world\\'s first completely free operating system: kernel, tools, utilities, applications, documentation, and all. Good thing he didn\\'t start from the bottom up.Almost 25 years later, there is still no Gnu kernel. The Hurd, as the proposed kernel is known, should have been the Free Software movement\\'s crowning achievement. Instead it\\'s become the poster child for collaborative software development gone wrong, topping the lists of vaporware year after year. And it\\'s a shame -- because wouldn\\'t it be great if there was a free OS kernel for everyone to use?18. Oracle Raw Iron. What\\'s the best OS for your database server? Should you run it on Windows? Linux? AIX? Something else? Back in 1998, Oracle\\'s answer was none of the above! Instead, Larry Ellison promised an \"appliance\" version of Oracle 8i, called Raw Iron, that ran atop the bare server hardware. No longer would Oracle customers need to worry about a separate support contract with an OS vendor: Oracle would handle the whole show.Behind the scenes, prototype Raw Iron boxes ran a custom version of Sun Solaris, but it didn\\'t matter. Customers had seen through Larry\\'s hand-waving, anyway. When nobody bit, the project was quietly shelved -- just a few years before the market for network appliances took off.17. B-to-b e-commerce. As the dot-com craze waned in the early 2000s, venture capitalists clung to a last-ditch idea: If all those startup e-commerce companies weren\\'t striking gold with the consumer public, maybe they could ply their wares to other, more established companies instead? They called it b-to-b e-commerce, and a generation of would-be digital disintermediators was born.The problem was that few of their potential customers were interested in cutting out the middlemen -- not if it meant trading them for an unproven online startup with a tiny sales force and no real experience in inventory management. In the end, though, the b-to-b players did deliver some excellent deals -- when their assets were offered up at auction.16. Apple Newton. It\\'s no iPhone, but by some measures the Newton still beats the pants off any PDA since. Rabid fans wax nostalgic about the Newton OS, and breathy rumors of a new Apple PDA remain a staple of Macworld Expos. Alas, the Newton never had a chance. Introduced in 1993, the Newton MessagePads were bulky, with lousy battery life. While Palm and Microsoft\\'s PDA partners were building devices that could actually fit in your pocket, Apple answered with a full-sized keyboard and a clunky clamshell for the Newton eMate 300 in 1997, then threw in the towel as its losses mounted.It\\'s a shame. With some software tweaks to suit business users, the iPhone and the iPod Touch could get Apple back in the game. But given the bad taste left by Newton, who\\'d be brave enough to suggest it to Steve now? (Besides us.)Top tech flops Nos. 21-25: PS2, VR, compression wars, ... Top tech flops Nos. 16-20: Copland, Gnu Hurd, Oracle Raw Iron, ... Top tech flops Nos. 11-15: Palm OS Cobalt, Netscape 6, search engines, ... Top tech flops Nos. 6-10: Itanium, Mac clones, e-currency, ... Top tech flops Nos. 1-5: DRM, paperless office, iPod imitators, ...Tech\\'s all-time top 25 flops: No. 11 to 15 15. Palm OS Cobalt. The only thing worse than giving up on a viable market is to win it totally, then run it into the ground. What else can be said about Palm? Its devices were revolutionary, its competition from Microsoft laughable. Then came years of mergers, acquisitions, spin-offs, and rebranding. All the while, the products stagnated. When Palm finally delivered its Cobalt OS in 2004, the purported successor to the aging Palm OS failed to win any licensees. Now, Palm is resorting to a Hail Mary: The next Palm OS, we\\'re told, will be based on Linux. But when it might appear is anyone\\'s guess, and by then it won\\'t matter. We\\'ll all be too used to this year\\'s Treos, running Windows Mobile.14. Netscape 6. The turning point of the browser wars came in 1997, with the release of Internet Explorer 4. For the first time, IE was better than Netscape Communicator. Not only was it faster, but it had more features and better standards compliance.Netscape should have struck back immediately, but instead it dragged its feet. As Microsoft pressed ahead with IE5, Netscape\\'s open source Mozilla project foundered, producing nothing but buggy \"preview releases.\" When Netscape 6 finally appeared, years later, it was a bloated, sluggish mess. The war was lost, and now even the Netscape brand is scheduled to pass into oblivion.Ironically, the former Netscape Communicator suite lives on as an open source project, called SeaMonkey -- presumably because it sounded great at first, but the real thing is a disappointment.13. Search portals. Where are they now? At the height of the dot-com boom, Web surfers had a plethora of search engines to choose from: AltaVista, Excite, InfoSeek, Lycos, and many more. Today, the major players of the past are mostly dead. A few have soldiered on, such as Ask.com, but only after repeated redesigns.Chalk it up to old-fashioned hubris. Instead of concentrating on their search offerings, the first-generation search engines fell victim to the portal arms race. They built up dashboards full of sports scores, stock quotes, news headlines, horoscopes, the weather, email, instant messaging, games, and sponsored content -- until finding what you wanted was like playing Where\\'s Waldo. Neither fish nor fowl, they became awkward combinations of search portals and general-interest portals. The world went to Yahoo for the latter. And when an upstart called Google appeared with a clean UI and high-quality search, users told the other engines to get lost.12. IPv6. Few topics spark more debate than IT\\'s equivalent of global warming. According to some experts, the question isn\\'t whether we will run out of IPv4 network addresses, but how soon. And there\\'s no Kyoto controversy here; federal policy already requires that government offices transition to IPv6 by 2008. So why is everyone still dragging their feet?Quite simply, IPv6 is a fix for a problem nobody has yet. Stopgap solutions such as NAT, while infuriating to network engineers, have proven effective. And IPv6 offers no compelling features to offset the headache of implementing it. In other words, until someone offers the equivalent of carbon credits for networking, IPv6 is one truth that\\'s just too inconvenient.11. Microsoft Passport. We all have too many online accounts and too many passwords to go with them. If Microsoft wants to save us some hassle by remembering them all for us, why not, right?But Web users didn\\'t flock to Microsoft\\'s single sign-on service when it went live, and neither did partners. The idea was good, but the implementation was lousy. First came public debate over privacy concerns. The discovery of security holes in the Passport software was just the final straw.To be fair, Microsoft\\'s competitors had no luck with the concept, either. As it turns out, people think handing over their personal security information to a third party as a way to save effort is a bad idea. Who knew?Top tech flops Nos. 21-25: PS2, VR, compression wars, ... Top tech flops Nos. 16-20: Copland, Gnu Hurd, Oracle Raw Iron, ... Top tech flops Nos. 11-15: Palm OS Cobalt, Netscape 6, search engines, ... Top tech flops Nos. 6-10: Itanium, Mac clones, e-currency, ... Top tech flops Nos. 1-5: DRM, paperless office, iPod imitators, ...Tech\\'s all-time top 25 failures: No. 6 to 10 10. Itanium. For almost as long as its chips have powered PCs, Intel has had to compete with clones. So when Intel offered a high-powered 64-bit chip for server computing, it almost made sense that it should be a completely different design than the classic x86. Almost, that is, except for one thing: The reason Intel\\'s rivals released clones was because people wanted x86s. Correction: They wanted affordable x86, and Itanium was neither. But although it was a commercial flop, the Good Ship Itanic sails on, though to where we cannot say. It takes a brave captain, indeed, to follow into those waters.9. Mac clones. Nobody dangled a carrot in front of its customers like Apple did in the late 1990s. For years, the Mac faithful had clamored for alternatives to Apple\\'s expensive, proprietary hardware. Apple gave its blessing in 1995, and the market flooded with discount Mac clones from the likes of Power Computing, Motorola, and Umax. Then, just two years later, they were gone.Fans of the clones fumed, but for Apple the only thing more damaging than this bait-and-switch was greenlighting the clones to begin with. Clone makers used generic PC components, an affront to the Mac\\'s carefully cultivated image, but their popularity underscored how mediocre Apple\\'s own offerings had become. As it turned out, what Apple really needed wasn\\'t alternative manufacturers, but alternative management.8. Electronic currency. If you\\'re looking for the perfect complement to e-commerce, what else but e-money? If storefronts can go virtual, then why shouldn\\'t customers\\' wallets?The dot-com era spawned a cottage industry of alternative currencies and \"loyalty programs.\" Many positioned themselves as solutions for micropayments -- the idea that online content providers could actually collect on the infinitesimally small fees that the market would bear. As it turned out, however, while employees of Internet startups might have been content to be paid in paper stock options, consumers preferred cold, hard cash -- proving once and for all that the only thing worse than a wooden nickel is a digital one.7. The 64-bit desktop PC. We\\'re all used to the major chipmakers wowing us with numbers, but as the gigahertz race slowed, life began imitating \"Spinal Tap.\" How many bits does your processor support? 16? 32? Mine goes all the way up to 64!Apple and IBM may have started the 64-bit craze in 2002, but AMD and Intel quickly followed suit. The elephant in the room, however, was that nobody could think of a serious reason why the average PC user might need to be able to access 16 exabytes of RAM.64-bit OSes still lag behind the 32-bit versions and the applications aren\\'t there, but who cares? After all, it\\'s not how many bits you\\'ve got -- it\\'s the cores that matter. Or something.6. Carly Fiorina. Call her the anti-Steve Jobs. During her 1999-2005 tenure as CEO of Hewlett-Packard, Carly Fiorina proved that she could reverse decades of geek goodwill and alienate customers like no one else. She oversaw the spin-off of HP\\'s well-respected instruments and medical equipment business, outsourced its beloved calculator division, then issued 7,000 pink slips. Under Fiorina\\'s tenure, HP brought in more profits from printer ink than PCs. But she\\'ll be remembered most for HP\\'s acquisition of Compaq, among other dubious efforts to give the \"stodgy\" HP a more consumer-friendly face (does anyone remember the licensed iPods?).HP\\'s stock price sagged under Fiorina, but she still walked away with a 21 million severance bonus. Not bad, considering that HP began in a garage with just 538 in capital.Top tech flops Nos. 21-25: PS2, VR, compression wars, ... Top tech flops Nos. 16-20: Copland, Gnu Hurd, Oracle Raw Iron, ... Top tech flops Nos. 11-15: Palm OS Cobalt, Netscape 6, search engines, ... Top tech flops Nos. 6-10: Itanium, Mac clones, e-currency, ... Top tech flops Nos. 1-5: DRM, paperless office, iPod imitators, ...Tech\\'s all-time top 25 flops: No. 1 to 5 5. Digital rights management. Has any industry ever invested so heavily in a technology that its customers didn\\'t want? Again and again, media companies keep racing to market with one new twist on digital copy protection after another, then offer up their own failures as \"proof\" that the market isn\\'t ready for downloadable content. It\\'s strange, too, when you consider that every DRM scheme yet invented has been quickly compromised. Some experts believe that the whole concept of DRM technology is inherently flawed. Still, as encouraging as Steve Jobs\\' recent statements have been, it\\'s difficult to speculate on when the media giants will give up on this harebrained idea. Greed is a powerful motivator.4. Paperless office. Who needs paper? For years, office managers have been rubbing their hands at the notion that databases, spreadsheets, e-mail, and digital documents can replace traditional ledgers, forms, and faxes. But while saving the environment is a laudable goal, the truth is that it\\'s actually harder to preserve digital records than the old-fashioned kind.Increased regulatory pressures have helped fuel a cottage industry around information lifecycle management, but the real-life capabilities of these products are a far cry from their lofty ambitions. Meanwhile, digital record-keeping presents security and privacy risks unheard of in the days of locked filing cabinets. The paperless office may finally be here, but it\\'s enough to make you wish for a good, old-fashioned memo pad.3. iPod imitators. Apple has always been the underdog of the PC market. Maybe that explains the electronics industry\\'s chronic habit of underestimating the iPod. Would-be competitors have come and gone, but go they do, swiftly, once customers get a gander at their second-rate hardware and atrocious interfaces. From Microsoft\\'s ugly, feature-hobbled Zune to TrekStor\\'s abortive plan to release a player under the cringe-inducing moniker i.Beat blaxx, it seems nobody can get it right, even with Apple paving the way.Frustrated, SanDisk recently resorted to Swift Boat-style attack ads, referring to the Apple faithful as \"iChimps.\" The question is, is it the iPod they hate? Or the millions of potential customers who refuse to settle for an inferior copy?2. Windows Vista. What if you threw a party for the world\\'s most revolutionary operating system and nobody came? Then again, by the time Windows Vista actually shipped, the \"revolution\" looked more like a failed coup.Despite repeated delays, much-anticipated features such as WinFS and the Monad command shell never made it into the shipping version of Vista, even as its system requirements grew and grew. When the dust finally cleared, the new OS seemed like little more than a bloated rehash of Windows XP, touched up with fresh coat of 3D-rendered paint. Add sluggish performance, spotty driver support, UI annoyances, and a dubious application security model, and suddenly desktop Linux doesn\\'t sound like such a crazy idea after all. Who knows what could convince risk-averse enterprises to make the leap to Vista now -- but hey, there\\'s always Service Pack 1, right? Or maybe Service Pack 2.1. Security. Computers influence every aspect of our business lives. We trust them implicitly to manage our records, compute our figures, and facilitate our communications. When will we ever learn?Thirty years into the personal computer era, and it seems like security is only getting worse. Computer viruses and worms, though simplistic in comparison to any useful application, have proven as resilient as the common cold. The Web, e-mail, and instant messaging have given criminals unprecedented opportunities for fraud, scams, and electronic spying.In 2007, corporations lost customer data to cyberthieves like never before. And today\\'s vast digital repositories make for very juicy targets that can be copied onto a few DVDs slipped unnoticed in a jacket pocket. If auto manufacturers approached safety the same way that software makers handle security, we\\'d all be driving Ford Pintos and Yugos. And airline security would resemble the \"systems\" that buses use to catch fare-dodgers.Now that we\\'ve built a digital world on an insecure foundation, the solutions for security are really hard ? maybe too hard. We may just need to live with the fact that computer technology is largely unsecure, so caveat utilisator.Top tech flops Nos. 21-25: PS2, VR, compression wars, ... Top tech flops Nos. 16-20: Copland, Gnu Hurd, Oracle Raw Iron, ... Top tech flops Nos. 11-15: Palm OS Cobalt, Netscape 6, search engines, ... Top tech flops Nos. 6-10: Itanium, Mac clones, e-currency, ... Top tech flops Nos. 1-5: DRM, paperless office, iPod imitators, ...'"
      ]
     },
     "execution_count": 12,
     "metadata": {},
     "output_type": "execute_result"
    }
   ],
   "source": [
    "df[df['content_length'] == df['content_length'].max()]['content'].values[0]"
   ]
  },
  {
   "cell_type": "code",
   "execution_count": 18,
   "id": "1da9069f-4ffb-4ad3-88a2-54ed9ba75312",
   "metadata": {},
   "outputs": [
    {
     "name": "stdout",
     "output_type": "stream",
     "text": [
      "Q1 = 114.0\n",
      "Q3 = 214.0\n",
      "IQR = 100.0\n",
      "Lower Bound = -36.0\n",
      "Upper Bound = 364.0\n"
     ]
    }
   ],
   "source": [
    "Q1 = df['content_length'].quantile(0.25)\n",
    "Q3 = df['content_length'].quantile(0.75)\n",
    "print(f\"Q1 = {Q1}\")\n",
    "print(f\"Q3 = {Q3}\")\n",
    "\n",
    "IQR = Q3 - Q1\n",
    "print(f\"IQR = {IQR}\")\n",
    "\n",
    "lower_bound = Q1 - 1.5 * IQR\n",
    "upper_bound = Q3 + 1.5 * IQR\n",
    "print(f\"Lower Bound = {lower_bound}\")\n",
    "print(f\"Upper Bound = {upper_bound}\")"
   ]
  },
  {
   "cell_type": "code",
   "execution_count": 20,
   "id": "af2296b2-4fc3-40a5-ac0e-6364f3426a14",
   "metadata": {},
   "outputs": [],
   "source": [
    "df = df[(df['content_length'] >= 20) & (df['content_length'] <= upper_bound)]"
   ]
  },
  {
   "cell_type": "code",
   "execution_count": 21,
   "id": "cbbde5b2-731d-4cc4-b9fc-0a4aa96746db",
   "metadata": {},
   "outputs": [
    {
     "data": {
      "image/png": "[encoded data removed]",
      "text/plain": [
       "<Figure size 1000x400 with 1 Axes>"
      ]
     },
     "metadata": {},
     "output_type": "display_data"
    }
   ],
   "source": [
    "plt.figure(figsize=(10, 4))\n",
    "df['content_length'].hist(bins=100)\n",
    "plt.title(\"Distribution of Content Length (After Outlier Removal)\")\n",
    "plt.xlabel(\"Content Length\")\n",
    "plt.ylabel(\"Frequency\")\n",
    "plt.show()"
   ]
  },
  {
   "cell_type": "markdown",
   "id": "d2dd78a0-5233-44ec-b1aa-8a097ad894f4",
   "metadata": {},
   "source": [
    "### Focus on the \"category\" column"
   ]
  },
  {
   "cell_type": "code",
   "execution_count": 39,
   "id": "f67419a9-aef2-42cf-b656-6b6594d5a887",
   "metadata": {},
   "outputs": [],
   "source": [
    "df['category'] = df['category'].str.lower().str.strip()"
   ]
  },
  {
   "cell_type": "code",
   "execution_count": 45,
   "id": "868281bf-160c-4e26-abc6-65ce3be85e0d",
   "metadata": {},
   "outputs": [
    {
     "name": "stdout",
     "output_type": "stream",
     "text": [
      "4263\n",
      "category\n",
      "world                        183341\n",
      "sci/tech                     144607\n",
      "entertainment                135847\n",
      "business                     132606\n",
      "italia                       129824\n",
      "sports                       116490\n",
      "top news                      99736\n",
      "europe                        90033\n",
      "top stories                   61577\n",
      "u.s.                          47049\n",
      "health                        42387\n",
      "software and developement     13223\n",
      "music feeds                    7401\n",
      "toons                           422\n",
      "ryder cup - live!                 4\n",
      "Name: count, dtype: int64\n"
     ]
    }
   ],
   "source": [
    "print(len(df['category'].value_counts(dropna=False)))\n",
    "print(df['category'].value_counts(dropna=False).head(15))"
   ]
  },
  {
   "cell_type": "code",
   "execution_count": 47,
   "id": "872eba68-61ab-4477-810d-e98295c1e653",
   "metadata": {},
   "outputs": [],
   "source": [
    "top_categories = df['category'].value_counts().head(14).index.tolist()"
   ]
  },
  {
   "cell_type": "code",
   "execution_count": 53,
   "id": "cda7305d-0d6f-46ed-ae27-1c473209e215",
   "metadata": {},
   "outputs": [],
   "source": [
    "df['category'] = df['category'].replace({\n",
    "    'top news': 'world',\n",
    "    'top stories': 'world',\n",
    "    'u.s.': 'world',\n",
    "    'italia': 'world',\n",
    "    'europe': 'world', \n",
    "    'software and developement': 'sci/tech',\n",
    "    'music feeds': 'entertainment',\n",
    "    'toons': 'entertainment'\n",
    "})"
   ]
  },
  {
   "cell_type": "code",
   "execution_count": 55,
   "id": "05cc3a5f-53b9-4c89-a18a-5b2fbf26930e",
   "metadata": {},
   "outputs": [
    {
     "name": "stdout",
     "output_type": "stream",
     "text": [
      "4255\n",
      "category\n",
      "world                                           611560\n",
      "sci/tech                                        157830\n",
      "entertainment                                   143670\n",
      "business                                        132606\n",
      "sports                                          116490\n",
      "health                                           42387\n",
      "ryder cup - live!                                    4\n",
      "russia seizes $20bn gas project                      2\n",
      "'once you have eaten them you get obsessed'          2\n",
      "stingray kills 'crocodile hunter'                    2\n",
      "figures show rise in violent crime                   2\n",
      "firms face compulsory carbon quotas                  2\n",
      "bush sworn in for second term                        2\n",
      "'i knew we were going  to get attacked ... '         2\n",
      "downloads to hit top 40                              2\n",
      "Name: count, dtype: int64\n"
     ]
    }
   ],
   "source": [
    "print(len(df['category'].value_counts(dropna=False)))\n",
    "print(df['category'].value_counts(dropna=False).head(15))"
   ]
  },
  {
   "cell_type": "code",
   "execution_count": 56,
   "id": "68b518b6-a500-45cd-9362-41f5823148c8",
   "metadata": {},
   "outputs": [],
   "source": [
    "main_categories = ['world', 'sci/tech', 'entertainment', 'business', 'sports', 'health']\n",
    "df_other = df[~df['category'].isin(main_categories)]"
   ]
  },
  {
   "cell_type": "code",
   "execution_count": 58,
   "id": "2e26cc04-f0b3-44a9-b880-e35b7171dbf4",
   "metadata": {},
   "outputs": [
    {
     "name": "stdout",
     "output_type": "stream",
     "text": [
      "category\n",
      "ryder cup - live!                              4\n",
      "'once you have eaten them you get obsessed'    2\n",
      "stingray kills 'crocodile hunter'              2\n",
      "figures show rise in violent crime             2\n",
      "firms face compulsory carbon quotas            2\n",
      "                                              ..\n",
      "interview: sally vincent meets rob brydon      1\n",
      "wedded to an ideal                             1\n",
      "tsunami kills thousands                        1\n",
      "lady and the lamp                              1\n",
      "life after the wave                            1\n",
      "Name: count, Length: 4249, dtype: int64\n"
     ]
    }
   ],
   "source": [
    "print(df_other['category'].value_counts())\n",
    "df_other.to_csv(\"other_categories.csv\", index=False)"
   ]
  },
  {
   "cell_type": "code",
   "execution_count": 59,
   "id": "ade68785-2247-44e4-8174-fcbffb51b755",
   "metadata": {},
   "outputs": [],
   "source": [
    "df = df[df['category'].isin(main_categories)]"
   ]
  },
  {
   "cell_type": "code",
   "execution_count": 27,
   "id": "3ea40981-fdec-457f-853c-31ee308e9c7c",
   "metadata": {},
   "outputs": [
    {
     "data": {
      "text/plain": [
       "category\n",
       "world            611528\n",
       "sci/tech         157826\n",
       "entertainment    143670\n",
       "business         132598\n",
       "sports           116488\n",
       "health            42387\n",
       "Name: count, dtype: int64"
      ]
     },
     "execution_count": 27,
     "metadata": {},
     "output_type": "execute_result"
    }
   ],
   "source": [
    "df['category'].value_counts(dropna=False)"
   ]
  },
  {
   "cell_type": "markdown",
   "id": "6eec2ca2-ccee-4ff8-9425-ff7b130df884",
   "metadata": {},
   "source": [
    "#### Discussion regarding the imbalance of the categories\n",
    "<blockquote>The categories are highly imbalanced leading to poor generalization for the minority categories(e.g. health), and misleading performance metrics.</blockquote>\n",
    "<blockquote>One solution might be to downsample the world category or simply assigning different weights for the categories in the loss function.</blockquote>"
   ]
  },
  {
   "cell_type": "markdown",
   "id": "00d67443-39d2-4f70-a365-4e47ca779c0e",
   "metadata": {},
   "source": [
    "### Focus on the \"title\" column"
   ]
  },
  {
   "cell_type": "code",
   "execution_count": 66,
   "id": "4a554fcd-0d7f-4bd4-8d22-df074b4439bf",
   "metadata": {},
   "outputs": [],
   "source": [
    "df['title'] = df['title'].fillna(\"\")\n",
    "df['title'] = df['title'].apply(clean)\n",
    "df['title'] = df['title'].fillna(\"\")"
   ]
  },
  {
   "cell_type": "code",
   "execution_count": 69,
   "id": "13202e41-4d14-41db-9cec-5f2e313f93f7",
   "metadata": {},
   "outputs": [
    {
     "name": "stdout",
     "output_type": "stream",
     "text": [
      "Number of articles with 'none' content: 0\n",
      "Number of articles with missing content: 0\n",
      "Number of articles with no content at all: 46\n",
      "Number of rows inside the dataframe: 1204543\n"
     ]
    }
   ],
   "source": [
    "print(f\"Number of articles with 'none' content: {(df['title'] == \"none\").sum()}\")\n",
    "print(f\"Number of articles with missing content: {(df['title'].isna()).sum()}\")\n",
    "print(f\"Number of articles with no content at all: {(df['title'] == \"\").sum()}\")\n",
    "print(f\"Number of rows inside the dataframe: {len(df)}\")"
   ]
  },
  {
   "cell_type": "code",
   "execution_count": 70,
   "id": "4f728f9c-2d68-4143-9399-cae416d1fa47",
   "metadata": {},
   "outputs": [],
   "source": [
    "df = df[df['title'] != \"\"]"
   ]
  },
  {
   "cell_type": "markdown",
   "id": "50a1b67a-5e4b-4f63-978f-08d4c9486f5c",
   "metadata": {},
   "source": [
    "### Focus on the \"source\" column"
   ]
  },
  {
   "cell_type": "code",
   "execution_count": 79,
   "id": "a1b620b6-00a8-40a5-adec-a7214402d279",
   "metadata": {},
   "outputs": [],
   "source": [
    "df['source'] = df['source'].fillna(\"\")\n",
    "df['source'] = df['source'].apply(clean)\n",
    "df['source'] = df['source'].fillna(\"\")"
   ]
  },
  {
   "cell_type": "code",
   "execution_count": 80,
   "id": "c404a996-a6d9-4dca-9943-80e37b5cfdd8",
   "metadata": {},
   "outputs": [
    {
     "name": "stdout",
     "output_type": "stream",
     "text": [
      "Number of articles with 'none' content: 0\n",
      "Number of articles with missing content: 0\n",
      "Number of articles with no content at all: 0\n",
      "Number of rows inside the dataframe: 1204497\n"
     ]
    }
   ],
   "source": [
    "print(f\"Number of articles with 'none' content: {(df['source'] == \"none\").sum()}\")\n",
    "print(f\"Number of articles with missing content: {(df['source'].isna()).sum()}\")\n",
    "print(f\"Number of articles with no content at all: {(df['source'] == \"\").sum()}\")\n",
    "print(f\"Number of rows inside the dataframe: {len(df)}\")"
   ]
  },
  {
   "cell_type": "code",
   "execution_count": 81,
   "id": "3399d7b6-0812-42ae-9c1d-1706e6f0e6d6",
   "metadata": {},
   "outputs": [],
   "source": [
    "df = df[df['source'] != \"\"]"
   ]
  },
  {
   "cell_type": "markdown",
   "id": "b05f6ce0-32dc-48be-996f-9e25e2107062",
   "metadata": {},
   "source": [
    "### Drop irelevant columns"
   ]
  },
  {
   "cell_type": "code",
   "execution_count": 7,
   "id": "cad94c1d-5449-4dcd-ad7f-777761fdfabe",
   "metadata": {},
   "outputs": [],
   "source": [
    "df = df.drop(columns=['subtitle', 'published_at', 'extra', 'url'])"
   ]
  },
  {
   "cell_type": "markdown",
   "id": "8ae83e2c-9df0-44e5-9aaa-d1c0634e7d6e",
   "metadata": {},
   "source": [
    "### Save Modifications"
   ]
  },
  {
   "cell_type": "code",
   "execution_count": 82,
   "id": "605f997f-2bf1-4579-89e3-d9065eac2fee",
   "metadata": {},
   "outputs": [],
   "source": [
    "df.to_csv(\"articles_cleaned.csv\", index=False)"
   ]
  },
  {
   "cell_type": "markdown",
   "id": "f25951b7-1fbb-4f5c-9edd-48480882632c",
   "metadata": {},
   "source": [
    "## Read Cleaned Data"
   ]
  },
  {
   "cell_type": "code",
   "execution_count": 2,
   "id": "152a92dc-49e3-4988-ad33-52ef140cfce7",
   "metadata": {},
   "outputs": [],
   "source": [
    "df = pd.read_csv(\"articles_cleaned.csv\")"
   ]
  },
  {
   "cell_type": "code",
   "execution_count": 3,
   "id": "5eb7e63d-5796-4e5c-bcb3-8ba451b72c12",
   "metadata": {},
   "outputs": [
    {
     "data": {
      "text/html": [
       "<div>\n",
       "<style scoped>\n",
       "    .dataframe tbody tr th:only-of-type {\n",
       "        vertical-align: middle;\n",
       "    }\n",
       "\n",
       "    .dataframe tbody tr th {\n",
       "        vertical-align: top;\n",
       "    }\n",
       "\n",
       "    .dataframe thead th {\n",
       "        text-align: right;\n",
       "    }\n",
       "</style>\n",
       "<table border=\"1\" class=\"dataframe\">\n",
       "  <thead>\n",
       "    <tr style=\"text-align: right;\">\n",
       "      <th></th>\n",
       "      <th>source</th>\n",
       "      <th>title</th>\n",
       "      <th>category</th>\n",
       "      <th>content</th>\n",
       "      <th>score</th>\n",
       "      <th>content_length</th>\n",
       "    </tr>\n",
       "  </thead>\n",
       "  <tbody>\n",
       "    <tr>\n",
       "      <th>0</th>\n",
       "      <td>Yahoo Business</td>\n",
       "      <td>Wall St. Pullback Reflects Tech Blowout (Reuters)</td>\n",
       "      <td>business</td>\n",
       "      <td>Reuters - Wall Street's long-playing drama, \"W...</td>\n",
       "      <td>5.0</td>\n",
       "      <td>200</td>\n",
       "    </tr>\n",
       "    <tr>\n",
       "      <th>1</th>\n",
       "      <td>Yahoo Business</td>\n",
       "      <td>Wall St. Bears Claw Back Into the Black (Reuters)</td>\n",
       "      <td>business</td>\n",
       "      <td>Reuters - Short-sellers, Wall Street's dwindli...</td>\n",
       "      <td>5.0</td>\n",
       "      <td>94</td>\n",
       "    </tr>\n",
       "    <tr>\n",
       "      <th>2</th>\n",
       "      <td>Yahoo Business</td>\n",
       "      <td>Carlyle Looks Toward Commercial Aerospace (Reu...</td>\n",
       "      <td>business</td>\n",
       "      <td>Reuters - Private investment firm Carlyle Grou...</td>\n",
       "      <td>5.0</td>\n",
       "      <td>214</td>\n",
       "    </tr>\n",
       "    <tr>\n",
       "      <th>3</th>\n",
       "      <td>Yahoo Business</td>\n",
       "      <td>Oil and Economy Cloud Stocks' Outlook (Reuters)</td>\n",
       "      <td>business</td>\n",
       "      <td>Reuters - Soaring crude prices plus worries ab...</td>\n",
       "      <td>5.0</td>\n",
       "      <td>184</td>\n",
       "    </tr>\n",
       "    <tr>\n",
       "      <th>4</th>\n",
       "      <td>Yahoo Business</td>\n",
       "      <td>Iraq Halts Oil Exports from Main Southern Pipe...</td>\n",
       "      <td>business</td>\n",
       "      <td>Reuters - Authorities have halted oil export f...</td>\n",
       "      <td>5.0</td>\n",
       "      <td>195</td>\n",
       "    </tr>\n",
       "  </tbody>\n",
       "</table>\n",
       "</div>"
      ],
      "text/plain": [
       "           source                                              title  \\\n",
       "0  Yahoo Business  Wall St. Pullback Reflects Tech Blowout (Reuters)   \n",
       "1  Yahoo Business  Wall St. Bears Claw Back Into the Black (Reuters)   \n",
       "2  Yahoo Business  Carlyle Looks Toward Commercial Aerospace (Reu...   \n",
       "3  Yahoo Business    Oil and Economy Cloud Stocks' Outlook (Reuters)   \n",
       "4  Yahoo Business  Iraq Halts Oil Exports from Main Southern Pipe...   \n",
       "\n",
       "   category                                            content  score  \\\n",
       "0  business  Reuters - Wall Street's long-playing drama, \"W...    5.0   \n",
       "1  business  Reuters - Short-sellers, Wall Street's dwindli...    5.0   \n",
       "2  business  Reuters - Private investment firm Carlyle Grou...    5.0   \n",
       "3  business  Reuters - Soaring crude prices plus worries ab...    5.0   \n",
       "4  business  Reuters - Authorities have halted oil export f...    5.0   \n",
       "\n",
       "   content_length  \n",
       "0             200  \n",
       "1              94  \n",
       "2             214  \n",
       "3             184  \n",
       "4             195  "
      ]
     },
     "execution_count": 3,
     "metadata": {},
     "output_type": "execute_result"
    }
   ],
   "source": [
    "df.head()"
   ]
  },
  {
   "cell_type": "markdown",
   "id": "d5f8cda6-23ca-4df7-bc39-7a831ab85ec5",
   "metadata": {},
   "source": [
    "### Downsample the \"world\" category to balance the dataset and prepare labels for categories"
   ]
  },
  {
   "cell_type": "code",
   "execution_count": 29,
   "id": "820645e0-68e4-4830-a075-4ae7fbb29b65",
   "metadata": {},
   "outputs": [
    {
     "name": "stdout",
     "output_type": "stream",
     "text": [
      "category\n",
      "sci/tech         157826\n",
      "entertainment    143670\n",
      "business         132598\n",
      "world            130000\n",
      "sports           116488\n",
      "health            42387\n",
      "Name: count, dtype: int64\n"
     ]
    }
   ],
   "source": [
    "world_sample = df[df['category'] == 'world'].sample(n=130000, random_state=42)\n",
    "other_categories = df[df['category'] != 'world']\n",
    "df_balanced = pd.concat([world_sample, other_categories])\n",
    "df_balanced = df_balanced.sample(frac=1, random_state=42).reset_index(drop=True)\n",
    "\n",
    "print(df_balanced['category'].value_counts())"
   ]
  },
  {
   "cell_type": "code",
   "execution_count": 25,
   "id": "774749f7-7369-42ba-8d74-cce1b4c1249f",
   "metadata": {},
   "outputs": [
    {
     "name": "stdout",
     "output_type": "stream",
     "text": [
      "This is the label mapping:{0: 'world', 1: 'sci/tech', 2: 'entertainment', 3: 'business', 4: 'sports', 5: 'health'}\n"
     ]
    }
   ],
   "source": [
    "label_to_id = {\n",
    "    'world': 0,\n",
    "    'sci/tech': 1,\n",
    "    'entertainment': 2,\n",
    "    'business': 3,\n",
    "    'sports': 4,\n",
    "    'health': 5\n",
    "}\n",
    "\n",
    "label_map = {v: k for k, v in label_to_id.items()}\n",
    "print(f\"This is the label mapping:{label_map}\")\n",
    "\n",
    "with open(\"label_mappings.json\", \"w\") as f:\n",
    "    json.dump({\n",
    "        \"label_to_id\": label_to_id,\n",
    "        \"label_map\": label_map\n",
    "    }, f)\n",
    "\n",
    "df_balanced['label_id'] = df_balanced['category'].map(label_to_id)"
   ]
  },
  {
   "cell_type": "code",
   "execution_count": 19,
   "id": "2cac6812-484a-4be3-80e2-36d1910a7aba",
   "metadata": {},
   "outputs": [
    {
     "data": {
      "text/html": [
       "<div>\n",
       "<style scoped>\n",
       "    .dataframe tbody tr th:only-of-type {\n",
       "        vertical-align: middle;\n",
       "    }\n",
       "\n",
       "    .dataframe tbody tr th {\n",
       "        vertical-align: top;\n",
       "    }\n",
       "\n",
       "    .dataframe thead th {\n",
       "        text-align: right;\n",
       "    }\n",
       "</style>\n",
       "<table border=\"1\" class=\"dataframe\">\n",
       "  <thead>\n",
       "    <tr style=\"text-align: right;\">\n",
       "      <th></th>\n",
       "      <th>source</th>\n",
       "      <th>title</th>\n",
       "      <th>category</th>\n",
       "      <th>content</th>\n",
       "      <th>score</th>\n",
       "      <th>content_length</th>\n",
       "      <th>num_tokens</th>\n",
       "      <th>label_id</th>\n",
       "    </tr>\n",
       "  </thead>\n",
       "  <tbody>\n",
       "    <tr>\n",
       "      <th>0</th>\n",
       "      <td>Boston Globe</td>\n",
       "      <td>Shell's game: Take chance</td>\n",
       "      <td>sports</td>\n",
       "      <td>When the former coach of the Oakland Raiders t...</td>\n",
       "      <td>5.0</td>\n",
       "      <td>217</td>\n",
       "      <td>42</td>\n",
       "      <td>4</td>\n",
       "    </tr>\n",
       "    <tr>\n",
       "      <th>1</th>\n",
       "      <td>Yahoo Sports</td>\n",
       "      <td>Leafs deny Brodeur his 40th victory (AP)</td>\n",
       "      <td>sports</td>\n",
       "      <td>AP - The Toronto Maple Leafs didn't beat the N...</td>\n",
       "      <td>5.0</td>\n",
       "      <td>166</td>\n",
       "      <td>41</td>\n",
       "      <td>4</td>\n",
       "    </tr>\n",
       "    <tr>\n",
       "      <th>2</th>\n",
       "      <td>The Motley Fool</td>\n",
       "      <td>Cheer Up or Go Broke</td>\n",
       "      <td>business</td>\n",
       "      <td>It turns out that misery is not miserly.</td>\n",
       "      <td>5.0</td>\n",
       "      <td>40</td>\n",
       "      <td>12</td>\n",
       "      <td>3</td>\n",
       "    </tr>\n",
       "    <tr>\n",
       "      <th>3</th>\n",
       "      <td>Reuters Business</td>\n",
       "      <td>United, Continental in early merger talks: sou...</td>\n",
       "      <td>business</td>\n",
       "      <td>NEW YORKPHILADELPHIA (Reuters) - United Airlin...</td>\n",
       "      <td>5.0</td>\n",
       "      <td>242</td>\n",
       "      <td>50</td>\n",
       "      <td>3</td>\n",
       "    </tr>\n",
       "    <tr>\n",
       "      <th>4</th>\n",
       "      <td>Yahoo Tech</td>\n",
       "      <td>Changes fail to halt 3's legal pursuit (FT.com)</td>\n",
       "      <td>sci/tech</td>\n",
       "      <td>FT.com - 3, the mobile phone operator, has vow...</td>\n",
       "      <td>5.0</td>\n",
       "      <td>171</td>\n",
       "      <td>40</td>\n",
       "      <td>1</td>\n",
       "    </tr>\n",
       "  </tbody>\n",
       "</table>\n",
       "</div>"
      ],
      "text/plain": [
       "             source                                              title  \\\n",
       "0      Boston Globe                          Shell's game: Take chance   \n",
       "1      Yahoo Sports           Leafs deny Brodeur his 40th victory (AP)   \n",
       "2   The Motley Fool                               Cheer Up or Go Broke   \n",
       "3  Reuters Business  United, Continental in early merger talks: sou...   \n",
       "4        Yahoo Tech    Changes fail to halt 3's legal pursuit (FT.com)   \n",
       "\n",
       "   category                                            content  score  \\\n",
       "0    sports  When the former coach of the Oakland Raiders t...    5.0   \n",
       "1    sports  AP - The Toronto Maple Leafs didn't beat the N...    5.0   \n",
       "2  business           It turns out that misery is not miserly.    5.0   \n",
       "3  business  NEW YORKPHILADELPHIA (Reuters) - United Airlin...    5.0   \n",
       "4  sci/tech  FT.com - 3, the mobile phone operator, has vow...    5.0   \n",
       "\n",
       "   content_length  num_tokens  label_id  \n",
       "0             217          42         4  \n",
       "1             166          41         4  \n",
       "2              40          12         3  \n",
       "3             242          50         3  \n",
       "4             171          40         1  "
      ]
     },
     "execution_count": 19,
     "metadata": {},
     "output_type": "execute_result"
    }
   ],
   "source": [
    "df_balanced.head()"
   ]
  },
  {
   "cell_type": "code",
   "execution_count": 26,
   "id": "dba97e95-209d-4373-bcb6-8be7494b9c2d",
   "metadata": {},
   "outputs": [],
   "source": [
    "df_balanced.to_csv(\"balanced_articles.csv\", index=False)"
   ]
  },
  {
   "cell_type": "markdown",
   "id": "b59f1c2e-beaa-4bd1-8bbb-83d9b9998bd4",
   "metadata": {},
   "source": [
    "## BERT Tokenizer"
   ]
  },
  {
   "cell_type": "markdown",
   "id": "838debb5-e237-492b-aeec-3a7d247b4dba",
   "metadata": {},
   "source": [
    "### Analysis on the appropriate max_length"
   ]
  },
  {
   "cell_type": "code",
   "execution_count": 5,
   "id": "416cdd20-328d-4393-b05d-d8ebd76d7ca1",
   "metadata": {},
   "outputs": [],
   "source": [
    "from transformers import BertTokenizer\n",
    "import torch"
   ]
  },
  {
   "cell_type": "code",
   "execution_count": 6,
   "id": "501807bf-7aa8-4e90-b94b-a55f9c318e18",
   "metadata": {},
   "outputs": [
    {
     "data": {
      "application/vnd.jupyter.widget-view+json": {
       "model_id": "2a148dd69241490c8ae303b627fc6b30",
       "version_major": 2,
       "version_minor": 0
      },
      "text/plain": [
       "tokenizer_config.json:   0%|          | 0.00/48.0 [00:00<?, ?B/s]"
      ]
     },
     "metadata": {},
     "output_type": "display_data"
    },
    {
     "data": {
      "application/vnd.jupyter.widget-view+json": {
       "model_id": "f9ce6314292a4a89b50438ef3cfe1ba0",
       "version_major": 2,
       "version_minor": 0
      },
      "text/plain": [
       "vocab.txt:   0%|          | 0.00/232k [00:00<?, ?B/s]"
      ]
     },
     "metadata": {},
     "output_type": "display_data"
    },
    {
     "data": {
      "application/vnd.jupyter.widget-view+json": {
       "model_id": "3ff06be7902a4cdaac961d2e92498744",
       "version_major": 2,
       "version_minor": 0
      },
      "text/plain": [
       "tokenizer.json:   0%|          | 0.00/466k [00:00<?, ?B/s]"
      ]
     },
     "metadata": {},
     "output_type": "display_data"
    },
    {
     "data": {
      "application/vnd.jupyter.widget-view+json": {
       "model_id": "b5c0cbc851ab43ce80932ab55fdc185a",
       "version_major": 2,
       "version_minor": 0
      },
      "text/plain": [
       "config.json:   0%|          | 0.00/570 [00:00<?, ?B/s]"
      ]
     },
     "metadata": {},
     "output_type": "display_data"
    }
   ],
   "source": [
    "sentences = df['content'].dropna().sample(4, random_state=42).tolist()\n",
    "tokenizer = BertTokenizer.from_pretrained('bert-base-uncased')"
   ]
  },
  {
   "cell_type": "code",
   "execution_count": 14,
   "id": "21ec165d-5edd-479b-9e2c-c759e2cc5bc7",
   "metadata": {},
   "outputs": [
    {
     "name": "stdout",
     "output_type": "stream",
     "text": [
      "Encoded Inputs: {'input_ids': [[101, 21358, 2361, 1011, 3060, 2865, 6591, 2020, 2358, 3089, 6455, 2000, 13984, 10411, 1005, 1055, 2231, 1998, 2049, 8443, 22277, 2015, 2000, 5993, 1037, 2933, 2000, 2203, 1996, 6114, 1997, 18243, 27942, 1005, 1055, 19337, 5243, 9077, 5596, 9272, 1998, 2132, 2125, 1996, 3891, 1997, 7823, 2121, 4895, 2895, 1012, 102], [101, 4542, 1999, 1996, 2103, 1011, 4958, 2011, 2303, 1011, 5213, 102], [101, 1037, 3528, 1997, 2417, 9175, 9735, 2253, 2006, 5096, 7483, 1010, 1998, 2085, 1996, 6984, 29008, 2031, 1996, 5356, 4834, 2000, 2128, 1011, 3696, 7707, 10337, 1010, 4463, 13075, 4221, 2243, 2096, 2192, 1011, 8130, 1037, 25359, 1012, 102], [101, 5365, 4835, 2253, 2000, 7573, 2976, 2457, 9857, 1010, 15242, 2048, 20543, 2114, 2570, 13294, 3609, 26335, 2015, 6878, 1997, 19948, 4691, 11304, 2094, 4809, 1997, 5691, 2058, 1996, 4274, 1012, 102]], 'token_type_ids': [[0, 0, 0, 0, 0, 0, 0, 0, 0, 0, 0, 0, 0, 0, 0, 0, 0, 0, 0, 0, 0, 0, 0, 0, 0, 0, 0, 0, 0, 0, 0, 0, 0, 0, 0, 0, 0, 0, 0, 0, 0, 0, 0, 0, 0, 0, 0, 0, 0, 0, 0, 0], [0, 0, 0, 0, 0, 0, 0, 0, 0, 0, 0, 0], [0, 0, 0, 0, 0, 0, 0, 0, 0, 0, 0, 0, 0, 0, 0, 0, 0, 0, 0, 0, 0, 0, 0, 0, 0, 0, 0, 0, 0, 0, 0, 0, 0, 0, 0, 0, 0, 0, 0, 0], [0, 0, 0, 0, 0, 0, 0, 0, 0, 0, 0, 0, 0, 0, 0, 0, 0, 0, 0, 0, 0, 0, 0, 0, 0, 0, 0, 0, 0, 0, 0, 0, 0]], 'attention_mask': [[1, 1, 1, 1, 1, 1, 1, 1, 1, 1, 1, 1, 1, 1, 1, 1, 1, 1, 1, 1, 1, 1, 1, 1, 1, 1, 1, 1, 1, 1, 1, 1, 1, 1, 1, 1, 1, 1, 1, 1, 1, 1, 1, 1, 1, 1, 1, 1, 1, 1, 1, 1], [1, 1, 1, 1, 1, 1, 1, 1, 1, 1, 1, 1], [1, 1, 1, 1, 1, 1, 1, 1, 1, 1, 1, 1, 1, 1, 1, 1, 1, 1, 1, 1, 1, 1, 1, 1, 1, 1, 1, 1, 1, 1, 1, 1, 1, 1, 1, 1, 1, 1, 1, 1], [1, 1, 1, 1, 1, 1, 1, 1, 1, 1, 1, 1, 1, 1, 1, 1, 1, 1, 1, 1, 1, 1, 1, 1, 1, 1, 1, 1, 1, 1, 1, 1, 1]]}\n",
      "\n",
      "Decoded Tokens (first sentence): [CLS] afp - african mediators were striving to persuade sudan's government and its rebel foes to agree a plan to end the suffering of darfur's beleaguered civilians and head off the risk of tougher un action. [SEP]\n"
     ]
    }
   ],
   "source": [
    "encoded_inputs = tokenizer(sentences, return_tensors=None, padding=False, truncation=False)\n",
    "print(\"Encoded Inputs:\", encoded_inputs)\n",
    "\n",
    "decoded_tokens = tokenizer.decode(encoded_inputs['input_ids'][0])\n",
    "print(\"\\nDecoded Tokens (first sentence):\", decoded_tokens)"
   ]
  },
  {
   "cell_type": "code",
   "execution_count": 15,
   "id": "c02a0668-0878-4e7a-8d3d-bfb8e709658a",
   "metadata": {},
   "outputs": [
    {
     "name": "stdout",
     "output_type": "stream",
     "text": [
      "\n",
      "Token IDs (first sentence): [101, 21358, 2361, 1011, 3060, 2865, 6591, 2020, 2358, 3089, 6455, 2000, 13984, 10411, 1005, 1055, 2231, 1998, 2049, 8443, 22277, 2015, 2000, 5993, 1037, 2933, 2000, 2203, 1996, 6114, 1997, 18243, 27942, 1005, 1055, 19337, 5243, 9077, 5596, 9272, 1998, 2132, 2125, 1996, 3891, 1997, 7823, 2121, 4895, 2895, 1012, 102]\n",
      "Attention Mask (first sentence): [1, 1, 1, 1, 1, 1, 1, 1, 1, 1, 1, 1, 1, 1, 1, 1, 1, 1, 1, 1, 1, 1, 1, 1, 1, 1, 1, 1, 1, 1, 1, 1, 1, 1, 1, 1, 1, 1, 1, 1, 1, 1, 1, 1, 1, 1, 1, 1, 1, 1, 1, 1]\n"
     ]
    }
   ],
   "source": [
    "print(\"\\nToken IDs (first sentence):\", encoded_inputs['input_ids'][0])\n",
    "print(\"Attention Mask (first sentence):\", encoded_inputs['attention_mask'][0])"
   ]
  },
  {
   "cell_type": "code",
   "execution_count": 16,
   "id": "d464b425-9b0a-40e6-b303-9a255725d66e",
   "metadata": {},
   "outputs": [
    {
     "name": "stdout",
     "output_type": "stream",
     "text": [
      "\n",
      "Token IDs (first sentence): tensor([  101, 21358,  2361,  1011,  3060,  2865,  6591,  2020,  2358,  3089,\n",
      "         6455,  2000, 13984, 10411,  1005,  1055,  2231,  1998,  2049,  8443,\n",
      "        22277,  2015,  2000,  5993,  1037,  2933,  2000,  2203,  1996,  6114,\n",
      "         1997, 18243, 27942,  1005,  1055, 19337,  5243,  9077,  5596,  9272,\n",
      "         1998,  2132,  2125,  1996,  3891,  1997,  7823,  2121,  4895,  2895,\n",
      "         1012,   102,     0,     0,     0,     0,     0,     0,     0,     0,\n",
      "            0,     0,     0,     0])\n",
      "Attention Mask (first sentence): tensor([1, 1, 1, 1, 1, 1, 1, 1, 1, 1, 1, 1, 1, 1, 1, 1, 1, 1, 1, 1, 1, 1, 1, 1,\n",
      "        1, 1, 1, 1, 1, 1, 1, 1, 1, 1, 1, 1, 1, 1, 1, 1, 1, 1, 1, 1, 1, 1, 1, 1,\n",
      "        1, 1, 1, 1, 0, 0, 0, 0, 0, 0, 0, 0, 0, 0, 0, 0])\n"
     ]
    }
   ],
   "source": [
    "encoding = tokenizer(\n",
    "    sentences,\n",
    "    max_length=64,\n",
    "    padding='max_length',\n",
    "    truncation=True,\n",
    "    return_attention_mask=True,\n",
    "    return_token_type_ids=False,\n",
    "    return_tensors='pt'\n",
    ")\n",
    "\n",
    "print(\"\\nToken IDs (first sentence):\", encoding['input_ids'][0])\n",
    "print(\"Attention Mask (first sentence):\", encoding['attention_mask'][0])"
   ]
  },
  {
   "cell_type": "code",
   "execution_count": 17,
   "id": "330bc15d-5ddf-4312-9533-29dc8cc6a4f7",
   "metadata": {},
   "outputs": [
    {
     "name": "stdout",
     "output_type": "stream",
     "text": [
      "\n",
      "Decoded Tokens (after truncation): afp - african mediators were striving to persuade sudan's government and its rebel foes to agree a plan to end the suffering of darfur's beleaguered civilians and head off the risk of tougher un action.\n"
     ]
    }
   ],
   "source": [
    "decoded_tokens = tokenizer.decode(encoding['input_ids'][0], skip_special_tokens=True)\n",
    "print(\"\\nDecoded Tokens (after truncation):\", decoded_tokens)"
   ]
  },
  {
   "cell_type": "code",
   "execution_count": 25,
   "id": "59e9f976-a09f-496d-87e6-60e2c72fc2c4",
   "metadata": {},
   "outputs": [],
   "source": [
    "batch = tokenizer(\n",
    "    df['content'].astype(str).tolist(), \n",
    "    padding=False,\n",
    "    truncation=False,\n",
    "    return_length=True\n",
    ")\n",
    "\n",
    "df['num_tokens'] = batch['length']"
   ]
  },
  {
   "cell_type": "code",
   "execution_count": 26,
   "id": "de4522f8-0839-4f2d-aa1e-9524b3b3ef1d",
   "metadata": {},
   "outputs": [
    {
     "data": {
      "text/plain": [
       "count    1.204497e+06\n",
       "mean     3.810263e+01\n",
       "std      1.452425e+01\n",
       "min      4.000000e+00\n",
       "25%      2.800000e+01\n",
       "50%      3.800000e+01\n",
       "75%      4.600000e+01\n",
       "max      1.820000e+02\n",
       "Name: num_tokens, dtype: float64"
      ]
     },
     "execution_count": 26,
     "metadata": {},
     "output_type": "execute_result"
    }
   ],
   "source": [
    "df['num_tokens'].describe()"
   ]
  },
  {
   "cell_type": "markdown",
   "id": "5fe22ad9-ccd5-429d-b5a0-8b6e71dda34c",
   "metadata": {},
   "source": [
    "#### Discussion regarding the max_length parameter for tokenizer"
   ]
  },
  {
   "cell_type": "markdown",
   "id": "18d7cd54-dfdd-406d-b6a0-a6af02ec3a14",
   "metadata": {},
   "source": [
    "<blockquote>I've computed the number of tokens for my <code>content</code> column, and I've observed that the majority of the rows have 46 tokens, therefore, I can use both <code>max_length = 64 or 128</code>.</blockquote>\n",
    "<blockquote>If I use <code>max_length = 64</code>, I do not truncate too much data, and if I use <code>max_length = 128</code>, I cover the entire dataset.</blockquote>"
   ]
  },
  {
   "cell_type": "markdown",
   "id": "bcbee0fa-da33-4e5f-9b2c-12b0cdad2cd1",
   "metadata": {},
   "source": [
    "## Proposed Architecture"
   ]
  },
  {
   "cell_type": "code",
   "execution_count": 7,
   "id": "e81fcce7-033d-4f66-b2a3-8c5dd32a6bd9",
   "metadata": {},
   "outputs": [],
   "source": [
    "class TransformerBlock(nn.Module):\n",
    "    def __init__(self, embeddings_dimension, heads, ff_hidden_dim, dropout):\n",
    "        super().__init__()\n",
    "        self.attention = nn.MultiheadAttention(embeddings_dimension, heads, dropout=dropout, batch_first=True)\n",
    "        self.norm1 = nn.LayerNorm(embeddings_dimension)\n",
    "        self.ff = nn.Sequential(\n",
    "            nn.Linear(embeddings_dimension, ff_hidden_dim),\n",
    "            nn.ReLU(),\n",
    "            nn.Linear(ff_hidden_dim, embeddings_dimension)\n",
    "        )\n",
    "        self.norm2 = nn.LayerNorm(embeddings_dimension)\n",
    "        self.dropout = nn.Dropout(dropout)\n",
    "\n",
    "    def forward(self, x, attn_mask):\n",
    "        key_padding_mask = (attn_mask == 0) \n",
    "        attn_output, _ = self.attention(x, x, x, key_padding_mask=key_padding_mask)\n",
    "        x = self.norm1(x + self.dropout(attn_output))\n",
    "        ff_output = self.ff(x)\n",
    "        x = self.norm2(x + self.dropout(ff_output))\n",
    "        return x"
   ]
  },
  {
   "cell_type": "code",
   "execution_count": 8,
   "id": "66873878-3198-4767-a794-4f19f3c5896e",
   "metadata": {},
   "outputs": [],
   "source": [
    "class NewsClassifier(nn.Module):\n",
    "    def __init__(self, vocab_size, num_classes=6, embed_dim=128, num_heads=4,\n",
    "                 num_layers=4, ff_hidden_dim=256, max_len=128, dropout=0.1):\n",
    "        super().__init__()\n",
    "        self.token_emb = nn.Embedding(vocab_size, embed_dim)\n",
    "        self.pos_emb = nn.Embedding(max_len, embed_dim)\n",
    "\n",
    "        self.layers = nn.ModuleList([\n",
    "            TransformerBlock(embed_dim, num_heads, ff_hidden_dim, dropout)\n",
    "            for _ in range(num_layers)\n",
    "        ])\n",
    "\n",
    "        self.cls_head = nn.Linear(embed_dim, num_classes)  \n",
    "\n",
    "    def forward(self, input_ids, attn_mask):\n",
    "        batch_size, seq_len = input_ids.size()\n",
    "        positions = pt.arange(seq_len, device=input_ids.device).unsqueeze(0).expand(batch_size, seq_len)\n",
    "\n",
    "        x = self.token_emb(input_ids) + self.pos_emb(positions)\n",
    "\n",
    "        for layer in self.layers:\n",
    "            x = layer(x, attn_mask)\n",
    "\n",
    "        cls_token = x[:, 0]  \n",
    "        return self.cls_head(cls_token)  "
   ]
  },
  {
   "cell_type": "markdown",
   "id": "5d3693c0-0b7a-4ff7-a89d-0aaa1d7f2cf2",
   "metadata": {},
   "source": [
    "## Dataset & Dataloader"
   ]
  },
  {
   "cell_type": "code",
   "execution_count": 9,
   "id": "23fe7718-49c6-4696-ab28-2ec3ce41d251",
   "metadata": {},
   "outputs": [],
   "source": [
    "class NewsDataset(Dataset):\n",
    "    def __init__(self, texts, labels, tokenizer, max_len=128):\n",
    "        self.texts = texts\n",
    "        self.labels = labels\n",
    "        self.tokenizer = tokenizer\n",
    "        self.max_len = max_len\n",
    "\n",
    "    def __len__(self):\n",
    "        return len(self.texts)\n",
    "\n",
    "    def __getitem__(self, idx):\n",
    "        text = str(self.texts[idx])\n",
    "        label = self.labels[idx]\n",
    "\n",
    "        encoding = self.tokenizer(\n",
    "            text,\n",
    "            add_special_tokens=True,\n",
    "            max_length=self.max_len,\n",
    "            return_token_type_ids=False,\n",
    "            padding='max_length',\n",
    "            truncation=True,\n",
    "            return_attention_mask=True,\n",
    "            return_tensors='pt',\n",
    "        )\n",
    "\n",
    "        return {\n",
    "            'input_ids': encoding['input_ids'].flatten(),\n",
    "            'attention_mask': encoding['attention_mask'].flatten(),\n",
    "            'labels': pt.tensor(label, dtype=pt.long)\n",
    "        }"
   ]
  },
  {
   "cell_type": "code",
   "execution_count": 12,
   "id": "d41deeab-9a13-40e8-9c0d-7d533bbcaa69",
   "metadata": {},
   "outputs": [],
   "source": [
    "df_balanced = pd.read_csv(\"balanced_articles.csv\")\n",
    "\n",
    "texts = df_balanced['content'].values\n",
    "labels = df_balanced['label_id'].values\n",
    "\n",
    "train_texts, val_test_texts, train_labels, val_test_labels = train_test_split(texts, labels, test_size=0.4, random_state=42)\n",
    "val_texts, test_texts, val_labels, test_labels = train_test_split(val_test_texts, val_test_labels, test_size=0.5, random_state=42)\n",
    "\n",
    "tokenizer = BertTokenizer.from_pretrained('bert-base-uncased')\n",
    "\n",
    "train_dataset = NewsDataset(train_texts, train_labels, tokenizer)\n",
    "val_dataset = NewsDataset(val_texts, val_labels, tokenizer)\n",
    "test_dataset = NewsDataset(test_texts, test_labels, tokenizer)\n",
    "\n",
    "train_loader = DataLoader(train_dataset, batch_size=8, shuffle=True)\n",
    "val_loader = DataLoader(val_dataset, batch_size=8)\n",
    "test_loader = DataLoader(test_dataset, batch_size=8)"
   ]
  },
  {
   "cell_type": "markdown",
   "id": "5ea22e23-6ed0-46e8-ac02-5aecfea13eaa",
   "metadata": {},
   "source": [
    "### Some visualizations"
   ]
  },
  {
   "cell_type": "code",
   "execution_count": 12,
   "id": "f953cac9-5bce-48df-a21f-be3eed15f9fc",
   "metadata": {},
   "outputs": [
    {
     "data": {
      "image/png": "[encoded data removed]",
      "text/plain": [
       "<Figure size 800x400 with 1 Axes>"
      ]
     },
     "metadata": {},
     "output_type": "display_data"
    }
   ],
   "source": [
    "category_counts = df_balanced['label_id'].value_counts().sort_index()\n",
    "\n",
    "plt.figure(figsize=(8, 4))\n",
    "sns.barplot(x=category_counts.index, y=category_counts.values, hue=category_counts.index, palette=\"viridis\", legend=False)\n",
    "plt.title(\"Category Distribution in Full Dataset\")\n",
    "plt.xlabel(\"Label ID\")\n",
    "plt.ylabel(\"Count\")\n",
    "plt.show()"
   ]
  },
  {
   "cell_type": "code",
   "execution_count": 14,
   "id": "cf2c63b8-1639-4f2f-8700-61ed3646c15c",
   "metadata": {},
   "outputs": [
    {
     "data": {
      "image/png": "[encoded data removed]",
      "text/plain": [
       "<Figure size 800x400 with 1 Axes>"
      ]
     },
     "metadata": {},
     "output_type": "display_data"
    },
    {
     "data": {
      "image/png": "[encoded data removed]",
      "text/plain": [
       "<Figure size 800x400 with 1 Axes>"
      ]
     },
     "metadata": {},
     "output_type": "display_data"
    },
    {
     "data": {
      "image/png": "[encoded data removed]",
      "text/plain": [
       "<Figure size 800x400 with 1 Axes>"
      ]
     },
     "metadata": {},
     "output_type": "display_data"
    }
   ],
   "source": [
    "def plot_split_distribution(split_labels, title):\n",
    "    counter = Counter(split_labels)\n",
    "    ids = sorted(counter.keys())\n",
    "    counts = [counter[i] for i in ids]\n",
    "\n",
    "    plt.figure(figsize=(8, 4))\n",
    "    sns.barplot(x=ids, y=counts, hue=category_counts.index, palette=\"viridis\", legend=False)\n",
    "    plt.title(title)\n",
    "    plt.xlabel(\"Label ID\")\n",
    "    plt.ylabel(\"Count\")\n",
    "    plt.show()\n",
    "\n",
    "plot_split_distribution(train_labels, \"Training Set Category Distribution\")\n",
    "plot_split_distribution(val_labels, \"Validation Set Category Distribution\")\n",
    "plot_split_distribution(test_labels, \"Test Set Category Distribution\")"
   ]
  },
  {
   "cell_type": "code",
   "execution_count": 15,
   "id": "10497370-6121-45af-85ed-3d6d227ab9b0",
   "metadata": {},
   "outputs": [
    {
     "data": {
      "image/png": "[encoded data removed]",
      "text/plain": [
       "<Figure size 600x600 with 1 Axes>"
      ]
     },
     "metadata": {},
     "output_type": "display_data"
    }
   ],
   "source": [
    "plt.figure(figsize=(6, 6))\n",
    "plt.pie(category_counts.values, labels=category_counts.index, autopct='%1.1f%%', colors=sns.color_palette('pastel'))\n",
    "plt.title(\"Category Distribution in Full Dataset (Pie Chart)\")\n",
    "plt.show()"
   ]
  },
  {
   "cell_type": "markdown",
   "id": "d3bc5439-7a88-4881-b1fd-d5a4af82a8c2",
   "metadata": {},
   "source": [
    "## Training & Evaluating"
   ]
  },
  {
   "cell_type": "code",
   "execution_count": 4,
   "id": "5bc1c583-1bb0-4c43-9943-2e89a11ff864",
   "metadata": {},
   "outputs": [
    {
     "name": "stdout",
     "output_type": "stream",
     "text": [
      "cuda\n"
     ]
    }
   ],
   "source": [
    "device = 'cuda' if pt.cuda.is_available() else 'cpu'\n",
    "print(device)"
   ]
  },
  {
   "cell_type": "code",
   "execution_count": 17,
   "id": "45b82a50-8d8a-4bf3-8e40-6c04fc1d9580",
   "metadata": {},
   "outputs": [
    {
     "name": "stdout",
     "output_type": "stream",
     "text": [
      "category\n",
      "sci/tech         157826\n",
      "entertainment    143670\n",
      "business         132598\n",
      "world            130000\n",
      "sports           116488\n",
      "health            42387\n",
      "Name: count, dtype: int64\n"
     ]
    }
   ],
   "source": [
    "print(df_balanced['category'].value_counts())"
   ]
  },
  {
   "cell_type": "code",
   "execution_count": 18,
   "id": "2f73171f-0015-4929-8a26-64d710a3170c",
   "metadata": {},
   "outputs": [
    {
     "name": "stdout",
     "output_type": "stream",
     "text": [
      "The total number of samples for each one of the categories: [130000, 157826, 143670, 132598, 116488, 42387]\n",
      "Computed weights for the loss function according to the specified categories:tensor([0.1267, 0.1044, 0.1147, 0.1242, 0.1414, 0.3886], device='cuda:0')\n"
     ]
    }
   ],
   "source": [
    "with open(\"label_mappings.json\", \"r\") as f:\n",
    "    mappings = json.load(f)\n",
    "    label_to_id = mappings[\"label_to_id\"]\n",
    "\n",
    "label_counts = Counter(df_balanced['category'].values)\n",
    "\n",
    "count_list = [label_counts[label] for label in label_to_id]\n",
    "print(f\"The total number of samples for each one of the categories: {count_list}\")\n",
    "\n",
    "class_counts = torch.tensor(count_list, dtype=torch.float)\n",
    "class_weights = 1.0 / class_counts\n",
    "class_weights = class_weights / class_weights.sum() \n",
    "class_weights = class_weights.to(device)\n",
    "print(f\"Computed weights for the loss function according to the specified categories:{class_weights}\")"
   ]
  },
  {
   "cell_type": "code",
   "execution_count": 19,
   "id": "0a2f1e91-ada4-4f3b-9620-90e8a5b348d5",
   "metadata": {},
   "outputs": [],
   "source": [
    "def train_epoch(model, data_loader, optimizer, device, class_weights):\n",
    "    model.train()\n",
    "    total_loss = 0\n",
    "    criterion = nn.CrossEntropyLoss(weight=class_weights)\n",
    "\n",
    "    for batch in tqdm(data_loader):\n",
    "\n",
    "        optimizer.zero_grad()\n",
    "\n",
    "        input_ids = batch['input_ids'].to(device)\n",
    "        attention_mask = batch['attention_mask'].to(device)\n",
    "        labels = batch['labels'].to(device)\n",
    "\n",
    "        logits = model(input_ids, attention_mask)\n",
    "        loss = criterion(logits, labels)\n",
    "\n",
    "        loss.backward()\n",
    "        optimizer.step()\n",
    "\n",
    "        total_loss = total_loss + loss.item()\n",
    "\n",
    "\n",
    "    return total_loss / len(data_loader)\n",
    "\n",
    "def evaluate(model, data_loader, device, class_weights):\n",
    "    model.eval()\n",
    "    predictions = []\n",
    "    actual_labels = []\n",
    "    criterion = nn.CrossEntropyLoss(weight=class_weights)\n",
    "    total_loss = 0\n",
    "\n",
    "    with pt.no_grad():\n",
    "        for batch in tqdm(data_loader):\n",
    "\n",
    "            input_ids = batch['input_ids'].to(device)\n",
    "            attention_mask = batch['attention_mask'].to(device)\n",
    "            labels = batch['labels'].to(device)\n",
    "\n",
    "            logits = model(input_ids, attention_mask)\n",
    "            loss = criterion(logits, labels)\n",
    "\n",
    "            total_loss = total_loss + loss.item()\n",
    "\n",
    "            _, predicted = pt.max(logits, 1)\n",
    "            predictions.extend(predicted.cpu().numpy())\n",
    "            actual_labels.extend(labels.cpu().numpy())\n",
    "\n",
    "    # print(predictions)\n",
    "    accuracy = accuracy_score(actual_labels, predictions)\n",
    "\n",
    "    return total_loss / len(data_loader), accuracy"
   ]
  },
  {
   "cell_type": "code",
   "execution_count": 20,
   "id": "e7807162-4909-496c-b88a-29ccadc49be8",
   "metadata": {},
   "outputs": [
    {
     "name": "stdout",
     "output_type": "stream",
     "text": [
      "Epoch number 1/5\n"
     ]
    },
    {
     "name": "stderr",
     "output_type": "stream",
     "text": [
      "100%|████████████████████████████████████████████| 54223/54223 [07:50<00:00, 115.31it/s]\n"
     ]
    },
    {
     "name": "stdout",
     "output_type": "stream",
     "text": [
      "Train loss: 0.8077\n"
     ]
    },
    {
     "name": "stderr",
     "output_type": "stream",
     "text": [
      "100%|████████████████████████████████████████████| 18075/18075 [01:10<00:00, 257.41it/s]\n"
     ]
    },
    {
     "name": "stdout",
     "output_type": "stream",
     "text": [
      "Validation loss: 0.6718\n",
      "Accuracy: 0.7662\n",
      "\n",
      "Epoch number 2/5\n"
     ]
    },
    {
     "name": "stderr",
     "output_type": "stream",
     "text": [
      "100%|████████████████████████████████████████████| 54223/54223 [07:45<00:00, 116.45it/s]\n"
     ]
    },
    {
     "name": "stdout",
     "output_type": "stream",
     "text": [
      "Train loss: 0.6118\n"
     ]
    },
    {
     "name": "stderr",
     "output_type": "stream",
     "text": [
      "100%|████████████████████████████████████████████| 18075/18075 [01:09<00:00, 261.79it/s]\n"
     ]
    },
    {
     "name": "stdout",
     "output_type": "stream",
     "text": [
      "Validation loss: 0.6058\n",
      "Accuracy: 0.7743\n",
      "\n",
      "Epoch number 3/5\n"
     ]
    },
    {
     "name": "stderr",
     "output_type": "stream",
     "text": [
      "100%|████████████████████████████████████████████| 54223/54223 [07:46<00:00, 116.26it/s]\n"
     ]
    },
    {
     "name": "stdout",
     "output_type": "stream",
     "text": [
      "Train loss: 0.5638\n"
     ]
    },
    {
     "name": "stderr",
     "output_type": "stream",
     "text": [
      "100%|████████████████████████████████████████████| 18075/18075 [01:08<00:00, 262.94it/s]\n"
     ]
    },
    {
     "name": "stdout",
     "output_type": "stream",
     "text": [
      "Validation loss: 0.5965\n",
      "Accuracy: 0.7806\n",
      "\n",
      "Epoch number 4/5\n"
     ]
    },
    {
     "name": "stderr",
     "output_type": "stream",
     "text": [
      "100%|████████████████████████████████████████████| 54223/54223 [07:44<00:00, 116.79it/s]\n"
     ]
    },
    {
     "name": "stdout",
     "output_type": "stream",
     "text": [
      "Train loss: 0.5368\n"
     ]
    },
    {
     "name": "stderr",
     "output_type": "stream",
     "text": [
      "100%|████████████████████████████████████████████| 18075/18075 [01:12<00:00, 249.71it/s]\n"
     ]
    },
    {
     "name": "stdout",
     "output_type": "stream",
     "text": [
      "Validation loss: 0.6057\n",
      "Accuracy: 0.7866\n",
      "\n",
      "Epoch number 5/5\n"
     ]
    },
    {
     "name": "stderr",
     "output_type": "stream",
     "text": [
      "100%|████████████████████████████████████████████| 54223/54223 [07:36<00:00, 118.88it/s]\n"
     ]
    },
    {
     "name": "stdout",
     "output_type": "stream",
     "text": [
      "Train loss: 0.5164\n"
     ]
    },
    {
     "name": "stderr",
     "output_type": "stream",
     "text": [
      "100%|████████████████████████████████████████████| 18075/18075 [01:07<00:00, 266.10it/s]"
     ]
    },
    {
     "name": "stdout",
     "output_type": "stream",
     "text": [
      "Validation loss: 0.5811\n",
      "Accuracy: 0.7830\n",
      "\n"
     ]
    },
    {
     "name": "stderr",
     "output_type": "stream",
     "text": [
      "\n"
     ]
    }
   ],
   "source": [
    "model = NewsClassifier(vocab_size=tokenizer.vocab_size, num_classes=6).to(device)\n",
    "path = 'bert_news_model.pt'\n",
    "\n",
    "optimizer = AdamW(model.parameters(), lr=5e-4)\n",
    "\n",
    "num_epochs = 5\n",
    "best_accuracy = 0\n",
    "\n",
    "train_losses = []\n",
    "val_losses = []\n",
    "val_accuracies = []\n",
    "\n",
    "for epoch in range(num_epochs):\n",
    "    print(f\"Epoch number {epoch + 1}/{num_epochs}\")\n",
    "\n",
    "    train_loss = train_epoch(model, train_loader, optimizer, device, class_weights)\n",
    "    print(f\"Train loss: {train_loss:.4f}\")\n",
    "\n",
    "    val_loss, accuracy = evaluate(model, val_loader, device, class_weights)\n",
    "    print(f\"Validation loss: {val_loss:.4f}\")\n",
    "    print(f\"Accuracy: {accuracy:.4f}\")\n",
    "\n",
    "    train_losses.append(train_loss)\n",
    "    val_losses.append(val_loss)\n",
    "    val_accuracies.append(accuracy)\n",
    "    \n",
    "    if best_accuracy < accuracy:\n",
    "        best_accuracy = accuracy\n",
    "        pt.save(model.state_dict(), path)\n",
    "\n",
    "    print()"
   ]
  },
  {
   "cell_type": "code",
   "execution_count": 3,
   "id": "6bbb4074-1d00-422a-b93a-ec4d42acca49",
   "metadata": {},
   "outputs": [
    {
     "data": {
      "image/png": "[encoded data removed]",
      "text/plain": [
       "<Figure size 1200x500 with 2 Axes>"
      ]
     },
     "metadata": {},
     "output_type": "display_data"
    }
   ],
   "source": [
    "train_losses = [0.8077, 0.6118, 0.5638, 0.5368, 0.5164]\n",
    "val_losses = [0.6718, 0.6058, 0.5965, 0.6057, 0.5811]\n",
    "val_accuracies = [0.7662, 0.7743, 0.7806, 0.7866, 0.7830]\n",
    "epochs = [1, 2, 3, 4, 5]\n",
    "\n",
    "plt.figure(figsize=(12, 5))\n",
    "\n",
    "plt.subplot(1, 2, 1)\n",
    "plt.plot(epochs, train_losses, label='Train Loss', marker='o')\n",
    "plt.plot(epochs, val_losses, label='Validation Loss', marker='o')\n",
    "plt.xlabel('Epoch')\n",
    "plt.ylabel('Loss')\n",
    "plt.title('Training vs Validation Loss')\n",
    "plt.legend()\n",
    "plt.grid(True)\n",
    "\n",
    "plt.subplot(1, 2, 2)\n",
    "plt.plot(epochs, val_accuracies, label='Validation Accuracy', color='green', marker='o')\n",
    "plt.xlabel('Epoch')\n",
    "plt.ylabel('Accuracy')\n",
    "plt.title('Validation Accuracy')\n",
    "plt.legend()\n",
    "plt.grid(True)\n",
    "\n",
    "plt.tight_layout()\n",
    "plt.savefig('loss_acc.jpg')\n",
    "plt.show()"
   ]
  },
  {
   "cell_type": "markdown",
   "id": "2e07d528-952b-4bee-acaa-c2dd00231e11",
   "metadata": {},
   "source": [
    "## Final Evaluation"
   ]
  },
  {
   "cell_type": "code",
   "execution_count": 5,
   "id": "cbaf8f5f-4da2-4cae-b938-bf2e0f0491d7",
   "metadata": {},
   "outputs": [],
   "source": [
    "def inference(model, tokenizer, device, text):\n",
    "    model.eval()\n",
    "    with pt.no_grad():\n",
    "        encoding = tokenizer(\n",
    "            text,\n",
    "            add_special_tokens=True,\n",
    "            max_length=128,\n",
    "            return_token_type_ids=False,\n",
    "            padding='max_length',\n",
    "            truncation=True,\n",
    "            return_attention_mask=True,\n",
    "            return_tensors='pt',\n",
    "        )\n",
    "\n",
    "        input_ids = encoding['input_ids'].to(device)\n",
    "        attention_mask = encoding['attention_mask'].to(device)\n",
    "\n",
    "        logits = model(input_ids=input_ids, attn_mask=attention_mask)\n",
    "        _, predicted = pt.max(logits, dim=1)\n",
    " \n",
    "        predicted_label = predicted.item()\n",
    "        print(f\"Predicted Category: {label_map[predicted_label]}\")\n",
    "        return predicted_label"
   ]
  },
  {
   "cell_type": "code",
   "execution_count": 13,
   "id": "794975b1-496c-4b05-8849-24b52384f9e0",
   "metadata": {},
   "outputs": [
    {
     "name": "stdout",
     "output_type": "stream",
     "text": [
      "Label Map: {0: 'world', 1: 'sci/tech', 2: 'entertainment', 3: 'business', 4: 'sports', 5: 'health'}\n",
      "Predicted Category: business\n"
     ]
    }
   ],
   "source": [
    "tokenizer = BertTokenizer.from_pretrained('bert-base-uncased')\n",
    "model = NewsClassifier(vocab_size=tokenizer.vocab_size, num_classes=6).to(device)\n",
    "model.load_state_dict(pt.load('bert_news_model.pt', map_location=device))\n",
    "model.to(device)\n",
    "model.eval()\n",
    "\n",
    "with open(\"label_mappings.json\", \"r\") as f:\n",
    "    mappings = json.load(f)\n",
    "\n",
    "label_to_id = mappings[\"label_to_id\"]\n",
    "label_map = {int(k): v for k, v in mappings[\"label_map\"].items()} \n",
    "print(\"Label Map:\", label_map)\n",
    "\n",
    "text = \"The company’s quarterly profits exceeded analyst expectations and shares rose 5%.\"\n",
    "_ = inference(model, tokenizer, device, text)"
   ]
  },
  {
   "cell_type": "code",
   "execution_count": 17,
   "id": "e147c8b8-00d5-4893-84d1-8c38880d179b",
   "metadata": {},
   "outputs": [],
   "source": [
    "def evaluate_model(model, test_loader, device, label_map):\n",
    "    model.eval()\n",
    "    all_preds = []\n",
    "    all_labels = []\n",
    "\n",
    "    with torch.no_grad():\n",
    "        for batch in test_loader:\n",
    "            input_ids = batch['input_ids'].to(device)\n",
    "            attention_mask = batch['attention_mask'].to(device)\n",
    "            labels = batch['labels'].to(device)\n",
    "\n",
    "            outputs = model(input_ids, attention_mask)\n",
    "            preds = torch.argmax(outputs, dim=1)\n",
    "\n",
    "            all_preds.extend(preds.cpu().numpy())\n",
    "            all_labels.extend(labels.cpu().numpy())\n",
    "\n",
    "    target_names = [label_map[i] for i in range(len(label_map))]\n",
    "    \n",
    "    report = classification_report(all_labels, all_preds, target_names=target_names)\n",
    "    print(\"Classification Report:\\n\", report)\n",
    "\n",
    "    cm = confusion_matrix(all_labels, all_preds)\n",
    "    print(\"Confusion Matrix:\\n\", cm)\n",
    "\n",
    "    return report, cm"
   ]
  },
  {
   "cell_type": "code",
   "execution_count": 20,
   "id": "37b8a4ae-d615-43e1-b648-6d1c12b2b98f",
   "metadata": {},
   "outputs": [
    {
     "name": "stdout",
     "output_type": "stream",
     "text": [
      "Classification Report:\n",
      "                precision    recall  f1-score   support\n",
      "\n",
      "        world       0.81      0.68      0.74     26048\n",
      "     sci/tech       0.77      0.87      0.82     31751\n",
      "entertainment       0.78      0.66      0.71     28498\n",
      "     business       0.82      0.75      0.79     26673\n",
      "       sports       0.85      0.97      0.90     23245\n",
      "       health       0.63      0.89      0.74      8379\n",
      "\n",
      "     accuracy                           0.79    144594\n",
      "    macro avg       0.78      0.80      0.78    144594\n",
      " weighted avg       0.79      0.79      0.79    144594\n",
      "\n",
      "Confusion Matrix:\n",
      " [[17627  1441  3459  1309  1038  1174]\n",
      " [  967 27699   768  1134   281   902]\n",
      " [ 2211  2269 18719  1604  2398  1297]\n",
      " [  720  3960   717 20045   243   988]\n",
      " [  151   167   313    74 22443    97]\n",
      " [  190   326   169   151    75  7468]]\n"
     ]
    }
   ],
   "source": [
    "report, cm = evaluate_model(model, test_loader, device, label_map)"
   ]
  },
  {
   "cell_type": "code",
   "execution_count": 8,
   "id": "f480db40-2f94-4599-b2a8-e48a030f8e1b",
   "metadata": {},
   "outputs": [
    {
     "data": {
      "image/png": "[encoded data removed]",
      "text/plain": [
       "<Figure size 1000x800 with 1 Axes>"
      ]
     },
     "metadata": {},
     "output_type": "display_data"
    }
   ],
   "source": [
    "confusion_matrix_data = [\n",
    "    [17627, 1441, 3459, 1309, 1038, 1174],\n",
    "    [967, 27699, 768, 1134, 281, 902],\n",
    "    [2211, 2269, 18719, 1604, 2398, 1297],\n",
    "    [720, 3960, 717, 20045, 243, 988],\n",
    "    [151, 167, 313, 74, 22443, 97],\n",
    "    [190, 326, 169, 151, 75, 7468]\n",
    "]\n",
    "cm = np.array(confusion_matrix_data)\n",
    "\n",
    "label_map = {0: 'world', 1: 'sci/tech', 2: 'entertainment', 3: 'business', 4: 'sports', 5: 'health'}\n",
    "\n",
    "class_names = [label_map[i] for i in sorted(label_map.keys())]\n",
    "\n",
    "plt.figure(figsize=(10, 8))\n",
    "sns.heatmap(cm, annot=True, fmt='d', cmap='Blues',\n",
    "            xticklabels=class_names, yticklabels=class_names,\n",
    "            linewidths=.5, cbar=False)\n",
    "\n",
    "plt.title('Confusion Matrix', fontsize=16)\n",
    "plt.xlabel('Predicted Label', fontsize=14)\n",
    "plt.ylabel('True Label', fontsize=14)\n",
    "plt.xticks(rotation=45, ha='right')\n",
    "plt.yticks(rotation=0)\n",
    "plt.tight_layout()\n",
    "plt.savefig('cm.pdf')\n",
    "plt.show()"
   ]
  }
 ],
 "metadata": {
  "kernelspec": {
   "display_name": "Python 3 (ipykernel)",
   "language": "python",
   "name": "python3"
  },
  "language_info": {
   "codemirror_mode": {
    "name": "ipython",
    "version": 3
   },
   "file_extension": ".py",
   "mimetype": "text/x-python",
   "name": "python",
   "nbconvert_exporter": "python",
   "pygments_lexer": "ipython3",
   "version": "3.12.3"
  }
 },
 "nbformat": 4,
 "nbformat_minor": 5
}
