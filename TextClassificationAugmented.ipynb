{
 "cells": [
  {
   "cell_type": "markdown",
   "id": "4a5279e8-4ba6-4204-a651-e8dafa95f209",
   "metadata": {},
   "source": [
    "## Imports"
   ]
  },
  {
   "cell_type": "code",
   "execution_count": 21,
   "id": "bb5d41f4-21f5-48f5-8c13-47dd0e598185",
   "metadata": {},
   "outputs": [],
   "source": [
    "import pandas as pd\n",
    "import numpy as np\n",
    "import seaborn as sns\n",
    "import json\n",
    "import torch\n",
    "from transformers import MarianMTModel, MarianTokenizer\n",
    "import torch\n",
    "from tqdm import tqdm\n",
    "import gc\n",
    "import torch.nn as nn\n",
    "from torch.utils.data import Dataset, DataLoader\n",
    "from torch.optim import AdamW\n",
    "import sklearn\n",
    "from sklearn.model_selection import train_test_split\n",
    "from sklearn.metrics import accuracy_score\n",
    "from sklearn.metrics import classification_report, confusion_matrix\n",
    "from transformers import BertTokenizer\n",
    "from collections import Counter\n",
    "import torch as pt\n",
    "import matplotlib.pyplot as plt"
   ]
  },
  {
   "cell_type": "markdown",
   "id": "fc1889fa-647e-4cb6-b6d1-e5ffce924205",
   "metadata": {
    "jp-MarkdownHeadingCollapsed": true
   },
   "source": [
    "## Read Data and Perform Label Mapping"
   ]
  },
  {
   "cell_type": "code",
   "execution_count": 2,
   "id": "56cb0a71-a842-4212-9bf5-857a7de321a3",
   "metadata": {},
   "outputs": [
    {
     "data": {
      "text/html": [
       "<div>\n",
       "<style scoped>\n",
       "    .dataframe tbody tr th:only-of-type {\n",
       "        vertical-align: middle;\n",
       "    }\n",
       "\n",
       "    .dataframe tbody tr th {\n",
       "        vertical-align: top;\n",
       "    }\n",
       "\n",
       "    .dataframe thead th {\n",
       "        text-align: right;\n",
       "    }\n",
       "</style>\n",
       "<table border=\"1\" class=\"dataframe\">\n",
       "  <thead>\n",
       "    <tr style=\"text-align: right;\">\n",
       "      <th></th>\n",
       "      <th>source</th>\n",
       "      <th>title</th>\n",
       "      <th>category</th>\n",
       "      <th>content</th>\n",
       "      <th>score</th>\n",
       "      <th>content_length</th>\n",
       "    </tr>\n",
       "  </thead>\n",
       "  <tbody>\n",
       "    <tr>\n",
       "      <th>0</th>\n",
       "      <td>Yahoo Business</td>\n",
       "      <td>Wall St. Pullback Reflects Tech Blowout (Reuters)</td>\n",
       "      <td>business</td>\n",
       "      <td>Reuters - Wall Street's long-playing drama, \"W...</td>\n",
       "      <td>5.0</td>\n",
       "      <td>200</td>\n",
       "    </tr>\n",
       "    <tr>\n",
       "      <th>1</th>\n",
       "      <td>Yahoo Business</td>\n",
       "      <td>Wall St. Bears Claw Back Into the Black (Reuters)</td>\n",
       "      <td>business</td>\n",
       "      <td>Reuters - Short-sellers, Wall Street's dwindli...</td>\n",
       "      <td>5.0</td>\n",
       "      <td>94</td>\n",
       "    </tr>\n",
       "    <tr>\n",
       "      <th>2</th>\n",
       "      <td>Yahoo Business</td>\n",
       "      <td>Carlyle Looks Toward Commercial Aerospace (Reu...</td>\n",
       "      <td>business</td>\n",
       "      <td>Reuters - Private investment firm Carlyle Grou...</td>\n",
       "      <td>5.0</td>\n",
       "      <td>214</td>\n",
       "    </tr>\n",
       "    <tr>\n",
       "      <th>3</th>\n",
       "      <td>Yahoo Business</td>\n",
       "      <td>Oil and Economy Cloud Stocks' Outlook (Reuters)</td>\n",
       "      <td>business</td>\n",
       "      <td>Reuters - Soaring crude prices plus worries ab...</td>\n",
       "      <td>5.0</td>\n",
       "      <td>184</td>\n",
       "    </tr>\n",
       "    <tr>\n",
       "      <th>4</th>\n",
       "      <td>Yahoo Business</td>\n",
       "      <td>Iraq Halts Oil Exports from Main Southern Pipe...</td>\n",
       "      <td>business</td>\n",
       "      <td>Reuters - Authorities have halted oil export f...</td>\n",
       "      <td>5.0</td>\n",
       "      <td>195</td>\n",
       "    </tr>\n",
       "  </tbody>\n",
       "</table>\n",
       "</div>"
      ],
      "text/plain": [
       "           source                                              title  \\\n",
       "0  Yahoo Business  Wall St. Pullback Reflects Tech Blowout (Reuters)   \n",
       "1  Yahoo Business  Wall St. Bears Claw Back Into the Black (Reuters)   \n",
       "2  Yahoo Business  Carlyle Looks Toward Commercial Aerospace (Reu...   \n",
       "3  Yahoo Business    Oil and Economy Cloud Stocks' Outlook (Reuters)   \n",
       "4  Yahoo Business  Iraq Halts Oil Exports from Main Southern Pipe...   \n",
       "\n",
       "   category                                            content  score  \\\n",
       "0  business  Reuters - Wall Street's long-playing drama, \"W...    5.0   \n",
       "1  business  Reuters - Short-sellers, Wall Street's dwindli...    5.0   \n",
       "2  business  Reuters - Private investment firm Carlyle Grou...    5.0   \n",
       "3  business  Reuters - Soaring crude prices plus worries ab...    5.0   \n",
       "4  business  Reuters - Authorities have halted oil export f...    5.0   \n",
       "\n",
       "   content_length  \n",
       "0             200  \n",
       "1              94  \n",
       "2             214  \n",
       "3             184  \n",
       "4             195  "
      ]
     },
     "execution_count": 2,
     "metadata": {},
     "output_type": "execute_result"
    }
   ],
   "source": [
    "df = pd.read_csv(\"articles_cleaned.csv\")\n",
    "df.head()"
   ]
  },
  {
   "cell_type": "code",
   "execution_count": 3,
   "id": "88a97468-0b66-43de-82e8-588b9d0dfbd5",
   "metadata": {},
   "outputs": [
    {
     "data": {
      "text/html": [
       "<div>\n",
       "<style scoped>\n",
       "    .dataframe tbody tr th:only-of-type {\n",
       "        vertical-align: middle;\n",
       "    }\n",
       "\n",
       "    .dataframe tbody tr th {\n",
       "        vertical-align: top;\n",
       "    }\n",
       "\n",
       "    .dataframe thead th {\n",
       "        text-align: right;\n",
       "    }\n",
       "</style>\n",
       "<table border=\"1\" class=\"dataframe\">\n",
       "  <thead>\n",
       "    <tr style=\"text-align: right;\">\n",
       "      <th></th>\n",
       "      <th>source</th>\n",
       "      <th>title</th>\n",
       "      <th>category</th>\n",
       "      <th>content</th>\n",
       "      <th>score</th>\n",
       "      <th>content_length</th>\n",
       "      <th>label_id</th>\n",
       "    </tr>\n",
       "  </thead>\n",
       "  <tbody>\n",
       "    <tr>\n",
       "      <th>0</th>\n",
       "      <td>Yahoo Business</td>\n",
       "      <td>Wall St. Pullback Reflects Tech Blowout (Reuters)</td>\n",
       "      <td>business</td>\n",
       "      <td>Reuters - Wall Street's long-playing drama, \"W...</td>\n",
       "      <td>5.0</td>\n",
       "      <td>200</td>\n",
       "      <td>3</td>\n",
       "    </tr>\n",
       "    <tr>\n",
       "      <th>1</th>\n",
       "      <td>Yahoo Business</td>\n",
       "      <td>Wall St. Bears Claw Back Into the Black (Reuters)</td>\n",
       "      <td>business</td>\n",
       "      <td>Reuters - Short-sellers, Wall Street's dwindli...</td>\n",
       "      <td>5.0</td>\n",
       "      <td>94</td>\n",
       "      <td>3</td>\n",
       "    </tr>\n",
       "    <tr>\n",
       "      <th>2</th>\n",
       "      <td>Yahoo Business</td>\n",
       "      <td>Carlyle Looks Toward Commercial Aerospace (Reu...</td>\n",
       "      <td>business</td>\n",
       "      <td>Reuters - Private investment firm Carlyle Grou...</td>\n",
       "      <td>5.0</td>\n",
       "      <td>214</td>\n",
       "      <td>3</td>\n",
       "    </tr>\n",
       "    <tr>\n",
       "      <th>3</th>\n",
       "      <td>Yahoo Business</td>\n",
       "      <td>Oil and Economy Cloud Stocks' Outlook (Reuters)</td>\n",
       "      <td>business</td>\n",
       "      <td>Reuters - Soaring crude prices plus worries ab...</td>\n",
       "      <td>5.0</td>\n",
       "      <td>184</td>\n",
       "      <td>3</td>\n",
       "    </tr>\n",
       "    <tr>\n",
       "      <th>4</th>\n",
       "      <td>Yahoo Business</td>\n",
       "      <td>Iraq Halts Oil Exports from Main Southern Pipe...</td>\n",
       "      <td>business</td>\n",
       "      <td>Reuters - Authorities have halted oil export f...</td>\n",
       "      <td>5.0</td>\n",
       "      <td>195</td>\n",
       "      <td>3</td>\n",
       "    </tr>\n",
       "  </tbody>\n",
       "</table>\n",
       "</div>"
      ],
      "text/plain": [
       "           source                                              title  \\\n",
       "0  Yahoo Business  Wall St. Pullback Reflects Tech Blowout (Reuters)   \n",
       "1  Yahoo Business  Wall St. Bears Claw Back Into the Black (Reuters)   \n",
       "2  Yahoo Business  Carlyle Looks Toward Commercial Aerospace (Reu...   \n",
       "3  Yahoo Business    Oil and Economy Cloud Stocks' Outlook (Reuters)   \n",
       "4  Yahoo Business  Iraq Halts Oil Exports from Main Southern Pipe...   \n",
       "\n",
       "   category                                            content  score  \\\n",
       "0  business  Reuters - Wall Street's long-playing drama, \"W...    5.0   \n",
       "1  business  Reuters - Short-sellers, Wall Street's dwindli...    5.0   \n",
       "2  business  Reuters - Private investment firm Carlyle Grou...    5.0   \n",
       "3  business  Reuters - Soaring crude prices plus worries ab...    5.0   \n",
       "4  business  Reuters - Authorities have halted oil export f...    5.0   \n",
       "\n",
       "   content_length  label_id  \n",
       "0             200         3  \n",
       "1              94         3  \n",
       "2             214         3  \n",
       "3             184         3  \n",
       "4             195         3  "
      ]
     },
     "execution_count": 3,
     "metadata": {},
     "output_type": "execute_result"
    }
   ],
   "source": [
    "with open(\"label_mappings.json\", \"r\") as f:\n",
    "    mappings = json.load(f)\n",
    "    label_to_id = mappings[\"label_to_id\"]\n",
    "\n",
    "df['label_id'] = df['category'].map(label_to_id)\n",
    "df.head()"
   ]
  },
  {
   "cell_type": "code",
   "execution_count": 4,
   "id": "3e43cd32-6a4b-4239-b7d9-b71dd21a4f8b",
   "metadata": {},
   "outputs": [
    {
     "name": "stdout",
     "output_type": "stream",
     "text": [
      "6\n",
      "category\n",
      "world            611528\n",
      "sci/tech         157826\n",
      "entertainment    143670\n",
      "business         132598\n",
      "sports           116488\n",
      "health            42387\n",
      "Name: count, dtype: int64\n"
     ]
    }
   ],
   "source": [
    "print(len(df['category'].value_counts(dropna=False)))\n",
    "print(df['category'].value_counts(dropna=False).head(6))"
   ]
  },
  {
   "cell_type": "markdown",
   "id": "f6a080d9-08c7-4e9e-8d61-1f4df696a5de",
   "metadata": {},
   "source": [
    "## Back-Translation"
   ]
  },
  {
   "cell_type": "code",
   "execution_count": 5,
   "id": "1fc2e5f0-8d3d-4c6b-b233-903d61ef0912",
   "metadata": {},
   "outputs": [
    {
     "name": "stdout",
     "output_type": "stream",
     "text": [
      "Using device: cuda\n"
     ]
    }
   ],
   "source": [
    "device = torch.device(\"cuda\" if torch.cuda.is_available() else \"cpu\")\n",
    "print(\"Using device:\", device)"
   ]
  },
  {
   "cell_type": "code",
   "execution_count": 12,
   "id": "78c7514b-db6d-4beb-a8ea-da32a9b8f233",
   "metadata": {},
   "outputs": [],
   "source": [
    "en_to_fr_model_name = \"Helsinki-NLP/opus-mt-en-fr\"\n",
    "fr_to_en_model_name = \"Helsinki-NLP/opus-mt-fr-en\"\n",
    "\n",
    "en_fr_tokenizer = MarianTokenizer.from_pretrained(en_to_fr_model_name)\n",
    "en_fr_model = MarianMTModel.from_pretrained(en_to_fr_model_name).to(device)\n",
    "\n",
    "fr_en_tokenizer = MarianTokenizer.from_pretrained(fr_to_en_model_name)\n",
    "fr_en_model = MarianMTModel.from_pretrained(fr_to_en_model_name).to(device)"
   ]
  },
  {
   "cell_type": "code",
   "execution_count": 13,
   "id": "b81a634e-adfa-4212-a539-fc4bca112c72",
   "metadata": {},
   "outputs": [],
   "source": [
    "def translate(texts, tokenizer, model, device, max_length=128):\n",
    "    inputs = tokenizer(texts, return_tensors=\"pt\", padding=True, truncation=True, max_length=max_length)\n",
    "    inputs = {k: v.to(device) for k, v in inputs.items()}\n",
    "    with torch.no_grad():\n",
    "        outputs = model.generate(\n",
    "            input_ids=inputs[\"input_ids\"],\n",
    "            attention_mask=inputs[\"attention_mask\"],\n",
    "            max_length=max_length,\n",
    "            num_beams=4,\n",
    "            do_sample=False\n",
    "        )\n",
    "    return tokenizer.batch_decode(outputs, skip_special_tokens=True)\n",
    "\n",
    "def back_translate(texts, batch_size=8):\n",
    "    back_translated_texts = []\n",
    "\n",
    "    for i in tqdm(range(0, len(texts), batch_size), desc=\"Back-translating\"):\n",
    "        torch.cuda.empty_cache()\n",
    "        gc.collect()\n",
    "        batch = texts[i:i+batch_size]\n",
    "        try:\n",
    "            fr_texts = translate(batch, en_fr_tokenizer, en_fr_model, device)\n",
    "            en_texts = translate(fr_texts, fr_en_tokenizer, fr_en_model, device)\n",
    "            back_translated_texts.extend(en_texts)\n",
    "        except RuntimeError as e:\n",
    "            print(f\"CUDA error at batch {i}, reducing batch size or sequence length might help: {e}\")\n",
    "            back_translated_texts.extend(batch)  \n",
    "\n",
    "    return back_translated_texts"
   ]
  },
  {
   "cell_type": "code",
   "execution_count": 9,
   "id": "f35241cf-86e0-41da-b15d-43ef6d2a6282",
   "metadata": {},
   "outputs": [],
   "source": [
    "health_df = df[df[\"category\"] == \"health\"]\n",
    "health_texts = health_df[\"content\"].tolist()"
   ]
  },
  {
   "cell_type": "code",
   "execution_count": 15,
   "id": "1d610ee9-e92d-4084-bee4-4e8f5e78effa",
   "metadata": {},
   "outputs": [
    {
     "name": "stderr",
     "output_type": "stream",
     "text": [
      "Back-translating: 100%|████████████████████████| 5299/5299 [59:39<00:00,  1.48it/s]\n"
     ]
    }
   ],
   "source": [
    "augmented_health_texts = back_translate(health_texts, batch_size=8)\n",
    "\n",
    "augmented_df = pd.DataFrame({\n",
    "    'source': 'back_translated',\n",
    "    'title': '', \n",
    "    'category': 'health',\n",
    "    'content': augmented_health_texts,\n",
    "    'score': 5.0,  \n",
    "    'content_length': [len(text) for text in augmented_health_texts],\n",
    "    'label_id': 5\n",
    "})\n",
    "\n",
    "df_augmented = pd.concat([df, augmented_df], ignore_index=True)"
   ]
  },
  {
   "cell_type": "code",
   "execution_count": 18,
   "id": "7a155f5d-d744-4709-9f94-6640af3c4530",
   "metadata": {},
   "outputs": [
    {
     "data": {
      "text/plain": [
       "84774"
      ]
     },
     "execution_count": 18,
     "metadata": {},
     "output_type": "execute_result"
    }
   ],
   "source": [
    "len(df_augmented[df_augmented['category'] == 'health'])"
   ]
  },
  {
   "cell_type": "code",
   "execution_count": 19,
   "id": "bc8aadf5-b12c-424b-b7dc-a7921284a874",
   "metadata": {},
   "outputs": [],
   "source": [
    "df_augmented.to_csv(\"augmented_data.csv\", index=False)"
   ]
  },
  {
   "cell_type": "code",
   "execution_count": 23,
   "id": "ff890428-1e33-4b73-9e90-ccb6916cfde2",
   "metadata": {},
   "outputs": [
    {
     "name": "stdout",
     "output_type": "stream",
     "text": [
      "        category  num_duplicates\n",
      "0       business           19779\n",
      "1  entertainment           28604\n",
      "2         health           20359\n",
      "3       sci/tech           33849\n",
      "4         sports           11586\n",
      "5          world          197693\n"
     ]
    }
   ],
   "source": [
    "dup_counts = (\n",
    "    df_augmented.groupby(\"category\")[\"content\"]\n",
    "    .apply(lambda x: x.duplicated().sum())\n",
    "    .reset_index(name=\"num_duplicates\")\n",
    ")\n",
    "\n",
    "print(dup_counts)"
   ]
  },
  {
   "cell_type": "code",
   "execution_count": 26,
   "id": "96d618e3-2d7c-4af9-928a-f01a9511c744",
   "metadata": {},
   "outputs": [],
   "source": [
    "df_cleaned = df_augmented.drop_duplicates(subset=[\"content\", \"label_id\"])"
   ]
  },
  {
   "cell_type": "code",
   "execution_count": 27,
   "id": "dcf36dbe-95a6-409e-9af7-c1874d812237",
   "metadata": {},
   "outputs": [],
   "source": [
    "df_cleaned.to_csv(\"augmented_data_cleaned.csv\", index=False)"
   ]
  },
  {
   "cell_type": "code",
   "execution_count": 28,
   "id": "780ba6ca-4df2-404b-b6e2-7d94a3a83628",
   "metadata": {},
   "outputs": [
    {
     "name": "stdout",
     "output_type": "stream",
     "text": [
      "        category  num_duplicates\n",
      "0       business               0\n",
      "1  entertainment               0\n",
      "2         health               0\n",
      "3       sci/tech               0\n",
      "4         sports               0\n",
      "5          world               0\n"
     ]
    }
   ],
   "source": [
    "dup_counts = (\n",
    "    df_cleaned.groupby(\"category\")[\"content\"]\n",
    "    .apply(lambda x: x.duplicated().sum())\n",
    "    .reset_index(name=\"num_duplicates\")\n",
    ")\n",
    "\n",
    "print(dup_counts)"
   ]
  },
  {
   "cell_type": "markdown",
   "id": "32f40bcf-0e87-46e1-be61-a27e78f35061",
   "metadata": {},
   "source": [
    "## Use the same architecture to observe the differences"
   ]
  },
  {
   "cell_type": "code",
   "execution_count": 2,
   "id": "14e854ee-3274-4c20-9fb0-65ef50840cab",
   "metadata": {},
   "outputs": [],
   "source": [
    "class TransformerBlock(nn.Module):\n",
    "    def __init__(self, embeddings_dimension, heads, ff_hidden_dim, dropout):\n",
    "        super().__init__()\n",
    "        self.attention = nn.MultiheadAttention(embeddings_dimension, heads, dropout=dropout, batch_first=True)\n",
    "        self.norm1 = nn.LayerNorm(embeddings_dimension)\n",
    "        self.ff = nn.Sequential(\n",
    "            nn.Linear(embeddings_dimension, ff_hidden_dim),\n",
    "            nn.ReLU(),\n",
    "            nn.Linear(ff_hidden_dim, embeddings_dimension)\n",
    "        )\n",
    "        self.norm2 = nn.LayerNorm(embeddings_dimension)\n",
    "        self.dropout = nn.Dropout(dropout)\n",
    "\n",
    "    def forward(self, x, attn_mask):\n",
    "        key_padding_mask = (attn_mask == 0) \n",
    "        attn_output, _ = self.attention(x, x, x, key_padding_mask=key_padding_mask)\n",
    "        x = self.norm1(x + self.dropout(attn_output))\n",
    "        ff_output = self.ff(x)\n",
    "        x = self.norm2(x + self.dropout(ff_output))\n",
    "        return x"
   ]
  },
  {
   "cell_type": "code",
   "execution_count": 3,
   "id": "ed2954db-6ca1-4a18-8bb9-fd2984566f62",
   "metadata": {},
   "outputs": [],
   "source": [
    "class NewsClassifier(nn.Module):\n",
    "    def __init__(self, vocab_size, num_classes=6, embed_dim=128, num_heads=4,\n",
    "                 num_layers=4, ff_hidden_dim=256, max_len=128, dropout=0.1):\n",
    "        super().__init__()\n",
    "        self.token_emb = nn.Embedding(vocab_size, embed_dim)\n",
    "        self.pos_emb = nn.Embedding(max_len, embed_dim)\n",
    "\n",
    "        self.layers = nn.ModuleList([\n",
    "            TransformerBlock(embed_dim, num_heads, ff_hidden_dim, dropout)\n",
    "            for _ in range(num_layers)\n",
    "        ])\n",
    "\n",
    "        self.cls_head = nn.Linear(embed_dim, num_classes)  \n",
    "\n",
    "    def forward(self, input_ids, attn_mask):\n",
    "        batch_size, seq_len = input_ids.size()\n",
    "        positions = pt.arange(seq_len, device=input_ids.device).unsqueeze(0).expand(batch_size, seq_len)\n",
    "\n",
    "        x = self.token_emb(input_ids) + self.pos_emb(positions)\n",
    "\n",
    "        for layer in self.layers:\n",
    "            x = layer(x, attn_mask)\n",
    "\n",
    "        cls_token = x[:, 0]  \n",
    "        return self.cls_head(cls_token)  "
   ]
  },
  {
   "cell_type": "markdown",
   "id": "d173274e-a59e-4d6a-bfbb-14e21e098dd2",
   "metadata": {},
   "source": [
    "## Dataset and Dataloader"
   ]
  },
  {
   "cell_type": "code",
   "execution_count": 4,
   "id": "9f677336-55ce-41c9-87af-384d460a6eb6",
   "metadata": {},
   "outputs": [],
   "source": [
    "class NewsDataset(Dataset):\n",
    "    def __init__(self, texts, labels, tokenizer, max_len=128):\n",
    "        self.texts = texts\n",
    "        self.labels = labels\n",
    "        self.tokenizer = tokenizer\n",
    "        self.max_len = max_len\n",
    "\n",
    "    def __len__(self):\n",
    "        return len(self.texts)\n",
    "\n",
    "    def __getitem__(self, idx):\n",
    "        text = str(self.texts[idx])\n",
    "        label = self.labels[idx]\n",
    "\n",
    "        encoding = self.tokenizer(\n",
    "            text,\n",
    "            add_special_tokens=True,\n",
    "            max_length=self.max_len,\n",
    "            return_token_type_ids=False,\n",
    "            padding='max_length',\n",
    "            truncation=True,\n",
    "            return_attention_mask=True,\n",
    "            return_tensors='pt',\n",
    "        )\n",
    "\n",
    "        return {\n",
    "            'input_ids': encoding['input_ids'].flatten(),\n",
    "            'attention_mask': encoding['attention_mask'].flatten(),\n",
    "            'labels': torch.tensor(label, dtype=pt.long)\n",
    "        }"
   ]
  },
  {
   "cell_type": "markdown",
   "id": "bc007c41-a989-4ba9-89b7-46283047737f",
   "metadata": {},
   "source": [
    "## Train-Test-Split"
   ]
  },
  {
   "cell_type": "code",
   "execution_count": 5,
   "id": "a0c89a26-6e4a-4855-9231-b837570115c1",
   "metadata": {},
   "outputs": [],
   "source": [
    "df_cleaned = pd.read_csv(\"augmented_data_cleaned.csv\", dtype={\"title\": str}, low_memory=False)\n",
    "\n",
    "texts = df_cleaned['content'].values\n",
    "labels = df_cleaned['label_id'].values\n",
    "\n",
    "train_texts, val_test_texts, train_labels, val_test_labels = train_test_split(texts, labels, test_size=0.4, random_state=42)\n",
    "val_texts, test_texts, val_labels, test_labels = train_test_split(val_test_texts, val_test_labels, test_size=0.5, random_state=42)\n",
    "\n",
    "tokenizer = BertTokenizer.from_pretrained('bert-base-uncased')\n",
    "\n",
    "train_dataset = NewsDataset(train_texts, train_labels, tokenizer)\n",
    "val_dataset = NewsDataset(val_texts, val_labels, tokenizer)\n",
    "test_dataset = NewsDataset(test_texts, test_labels, tokenizer)\n",
    "\n",
    "train_loader = DataLoader(train_dataset, batch_size=8, shuffle=True)\n",
    "val_loader = DataLoader(val_dataset, batch_size=8)\n",
    "test_loader = DataLoader(test_dataset, batch_size=8)"
   ]
  },
  {
   "cell_type": "code",
   "execution_count": 6,
   "id": "fbe793b9-6bbc-47b5-8304-815d1e03595b",
   "metadata": {},
   "outputs": [
    {
     "name": "stdout",
     "output_type": "stream",
     "text": [
      "cuda\n"
     ]
    }
   ],
   "source": [
    "device = 'cuda' if torch.cuda.is_available() else 'cpu'\n",
    "print(device)"
   ]
  },
  {
   "cell_type": "code",
   "execution_count": 7,
   "id": "fbec2dbc-5eec-4be0-a1d0-aadbafe3b0a2",
   "metadata": {},
   "outputs": [
    {
     "name": "stdout",
     "output_type": "stream",
     "text": [
      "category\n",
      "world            413835\n",
      "sci/tech         123977\n",
      "entertainment    115066\n",
      "business         112819\n",
      "sports           104902\n",
      "health            64415\n",
      "Name: count, dtype: int64\n"
     ]
    }
   ],
   "source": [
    "print(df_cleaned['category'].value_counts())"
   ]
  },
  {
   "cell_type": "markdown",
   "id": "2add7599-343a-45a2-af10-cb1f9b841710",
   "metadata": {},
   "source": [
    "## Compute weights for Cross-Entropy"
   ]
  },
  {
   "cell_type": "code",
   "execution_count": 8,
   "id": "6fab0482-98f3-46f8-9c0d-e15069e2d1c0",
   "metadata": {},
   "outputs": [
    {
     "name": "stdout",
     "output_type": "stream",
     "text": [
      "The total number of samples for each one of the categories: [413835, 123977, 115066, 112819, 104902, 64415]\n",
      "Computed weights for the loss function according to the specified categories:tensor([0.0455, 0.1519, 0.1637, 0.1669, 0.1795, 0.2924], device='cuda:0')\n"
     ]
    }
   ],
   "source": [
    "with open(\"label_mappings.json\", \"r\") as f:\n",
    "    mappings = json.load(f)\n",
    "    label_to_id = mappings[\"label_to_id\"]\n",
    "\n",
    "label_counts = Counter(df_cleaned['category'].values)\n",
    "\n",
    "count_list = [label_counts[label] for label in label_to_id]\n",
    "print(f\"The total number of samples for each one of the categories: {count_list}\")\n",
    "\n",
    "class_counts = torch.tensor(count_list, dtype=torch.float)\n",
    "class_weights = 1.0 / class_counts\n",
    "class_weights = class_weights / class_weights.sum() \n",
    "class_weights = class_weights.to(device)\n",
    "print(f\"Computed weights for the loss function according to the specified categories:{class_weights}\")"
   ]
  },
  {
   "cell_type": "markdown",
   "id": "c2748df0-11d7-46d9-a377-a071fe2f7061",
   "metadata": {},
   "source": [
    "## Training and Evaluation"
   ]
  },
  {
   "cell_type": "code",
   "execution_count": 9,
   "id": "7c4c5c7e-cb94-4366-b4e1-4ee766928fed",
   "metadata": {},
   "outputs": [],
   "source": [
    "def train_epoch(model, data_loader, optimizer, device, class_weights):\n",
    "    model.train()\n",
    "    total_loss = 0\n",
    "    criterion = nn.CrossEntropyLoss(weight=class_weights)\n",
    "\n",
    "    for batch in tqdm(data_loader):\n",
    "\n",
    "        optimizer.zero_grad()\n",
    "\n",
    "        input_ids = batch['input_ids'].to(device)\n",
    "        attention_mask = batch['attention_mask'].to(device)\n",
    "        labels = batch['labels'].to(device)\n",
    "\n",
    "        logits = model(input_ids, attention_mask)\n",
    "        loss = criterion(logits, labels)\n",
    "\n",
    "        loss.backward()\n",
    "        optimizer.step()\n",
    "\n",
    "        total_loss = total_loss + loss.item()\n",
    "\n",
    "\n",
    "    return total_loss / len(data_loader)\n",
    "\n",
    "def evaluate(model, data_loader, device, class_weights):\n",
    "    model.eval()\n",
    "    predictions = []\n",
    "    actual_labels = []\n",
    "    criterion = nn.CrossEntropyLoss(weight=class_weights)\n",
    "    total_loss = 0\n",
    "\n",
    "    with pt.no_grad():\n",
    "        for batch in tqdm(data_loader):\n",
    "\n",
    "            input_ids = batch['input_ids'].to(device)\n",
    "            attention_mask = batch['attention_mask'].to(device)\n",
    "            labels = batch['labels'].to(device)\n",
    "\n",
    "            logits = model(input_ids, attention_mask)\n",
    "            loss = criterion(logits, labels)\n",
    "\n",
    "            total_loss = total_loss + loss.item()\n",
    "\n",
    "            _, predicted = pt.max(logits, 1)\n",
    "            predictions.extend(predicted.cpu().numpy())\n",
    "            actual_labels.extend(labels.cpu().numpy())\n",
    "\n",
    "    # print(predictions)\n",
    "    accuracy = accuracy_score(actual_labels, predictions)\n",
    "\n",
    "    return total_loss / len(data_loader), accuracy"
   ]
  },
  {
   "cell_type": "code",
   "execution_count": 11,
   "id": "ae183883-4a39-4f0f-b1c5-b0a675226743",
   "metadata": {
    "scrolled": true
   },
   "outputs": [
    {
     "name": "stdout",
     "output_type": "stream",
     "text": [
      "Epoch number 1/10\n"
     ]
    },
    {
     "name": "stderr",
     "output_type": "stream",
     "text": [
      "100%|████████████████████████████████████████████| 70126/70126 [09:39<00:00, 121.01it/s]\n"
     ]
    },
    {
     "name": "stdout",
     "output_type": "stream",
     "text": [
      "Train loss: 0.8159\n"
     ]
    },
    {
     "name": "stderr",
     "output_type": "stream",
     "text": [
      "100%|████████████████████████████████████████████| 23376/23376 [01:27<00:00, 266.13it/s]\n"
     ]
    },
    {
     "name": "stdout",
     "output_type": "stream",
     "text": [
      "Validation loss: 0.6633\n",
      "Accuracy: 0.7293\n",
      "\n",
      "Epoch number 2/10\n"
     ]
    },
    {
     "name": "stderr",
     "output_type": "stream",
     "text": [
      "100%|████████████████████████████████████████████| 70126/70126 [09:37<00:00, 121.53it/s]\n"
     ]
    },
    {
     "name": "stdout",
     "output_type": "stream",
     "text": [
      "Train loss: 0.6323\n"
     ]
    },
    {
     "name": "stderr",
     "output_type": "stream",
     "text": [
      "100%|████████████████████████████████████████████| 23376/23376 [01:27<00:00, 268.68it/s]\n"
     ]
    },
    {
     "name": "stdout",
     "output_type": "stream",
     "text": [
      "Validation loss: 0.6281\n",
      "Accuracy: 0.7395\n",
      "\n",
      "Epoch number 3/10\n"
     ]
    },
    {
     "name": "stderr",
     "output_type": "stream",
     "text": [
      "100%|████████████████████████████████████████████| 70126/70126 [09:38<00:00, 121.32it/s]\n"
     ]
    },
    {
     "name": "stdout",
     "output_type": "stream",
     "text": [
      "Train loss: 0.5932\n"
     ]
    },
    {
     "name": "stderr",
     "output_type": "stream",
     "text": [
      "100%|████████████████████████████████████████████| 23376/23376 [01:27<00:00, 267.35it/s]\n"
     ]
    },
    {
     "name": "stdout",
     "output_type": "stream",
     "text": [
      "Validation loss: 0.6392\n",
      "Accuracy: 0.7203\n",
      "\n",
      "Epoch number 4/10\n"
     ]
    },
    {
     "name": "stderr",
     "output_type": "stream",
     "text": [
      "100%|████████████████████████████████████████████| 70126/70126 [09:36<00:00, 121.71it/s]\n"
     ]
    },
    {
     "name": "stdout",
     "output_type": "stream",
     "text": [
      "Train loss: 0.5728\n"
     ]
    },
    {
     "name": "stderr",
     "output_type": "stream",
     "text": [
      "100%|████████████████████████████████████████████| 23376/23376 [01:27<00:00, 266.62it/s]\n"
     ]
    },
    {
     "name": "stdout",
     "output_type": "stream",
     "text": [
      "Validation loss: 0.6068\n",
      "Accuracy: 0.7394\n",
      "\n",
      "Epoch number 5/10\n"
     ]
    },
    {
     "name": "stderr",
     "output_type": "stream",
     "text": [
      "100%|████████████████████████████████████████████| 70126/70126 [09:38<00:00, 121.21it/s]\n"
     ]
    },
    {
     "name": "stdout",
     "output_type": "stream",
     "text": [
      "Train loss: 0.5613\n"
     ]
    },
    {
     "name": "stderr",
     "output_type": "stream",
     "text": [
      "100%|████████████████████████████████████████████| 23376/23376 [01:27<00:00, 265.68it/s]\n"
     ]
    },
    {
     "name": "stdout",
     "output_type": "stream",
     "text": [
      "Validation loss: 0.6217\n",
      "Accuracy: 0.7147\n",
      "\n",
      "Epoch number 6/10\n"
     ]
    },
    {
     "name": "stderr",
     "output_type": "stream",
     "text": [
      " 48%|███████████████████▊                     | 33906/70126 [6:17:54<6:43:42,  1.50it/s]\n"
     ]
    },
    {
     "ename": "RuntimeError",
     "evalue": "CUDA error: unspecified launch failure\nCUDA kernel errors might be asynchronously reported at some other API call, so the stacktrace below might be incorrect.\nFor debugging consider passing CUDA_LAUNCH_BLOCKING=1\nCompile with `TORCH_USE_CUDA_DSA` to enable device-side assertions.\n",
     "output_type": "error",
     "traceback": [
      "\u001b[31m---------------------------------------------------------------------------\u001b[39m",
      "\u001b[31mRuntimeError\u001b[39m                              Traceback (most recent call last)",
      "\u001b[36mCell\u001b[39m\u001b[36m \u001b[39m\u001b[32mIn[11]\u001b[39m\u001b[32m, line 16\u001b[39m\n\u001b[32m     13\u001b[39m \u001b[38;5;28;01mfor\u001b[39;00m epoch \u001b[38;5;129;01min\u001b[39;00m \u001b[38;5;28mrange\u001b[39m(num_epochs):\n\u001b[32m     14\u001b[39m     \u001b[38;5;28mprint\u001b[39m(\u001b[33mf\u001b[39m\u001b[33m\"\u001b[39m\u001b[33mEpoch number \u001b[39m\u001b[38;5;132;01m{\u001b[39;00mepoch\u001b[38;5;250m \u001b[39m+\u001b[38;5;250m \u001b[39m\u001b[32m1\u001b[39m\u001b[38;5;132;01m}\u001b[39;00m\u001b[33m/\u001b[39m\u001b[38;5;132;01m{\u001b[39;00mnum_epochs\u001b[38;5;132;01m}\u001b[39;00m\u001b[33m\"\u001b[39m)\n\u001b[32m---> \u001b[39m\u001b[32m16\u001b[39m     train_loss = \u001b[43mtrain_epoch\u001b[49m\u001b[43m(\u001b[49m\u001b[43mmodel\u001b[49m\u001b[43m,\u001b[49m\u001b[43m \u001b[49m\u001b[43mtrain_loader\u001b[49m\u001b[43m,\u001b[49m\u001b[43m \u001b[49m\u001b[43moptimizer\u001b[49m\u001b[43m,\u001b[49m\u001b[43m \u001b[49m\u001b[43mdevice\u001b[49m\u001b[43m,\u001b[49m\u001b[43m \u001b[49m\u001b[43mclass_weights\u001b[49m\u001b[43m)\u001b[49m\n\u001b[32m     17\u001b[39m     \u001b[38;5;28mprint\u001b[39m(\u001b[33mf\u001b[39m\u001b[33m\"\u001b[39m\u001b[33mTrain loss: \u001b[39m\u001b[38;5;132;01m{\u001b[39;00mtrain_loss\u001b[38;5;132;01m:\u001b[39;00m\u001b[33m.4f\u001b[39m\u001b[38;5;132;01m}\u001b[39;00m\u001b[33m\"\u001b[39m)\n\u001b[32m     19\u001b[39m     val_loss, accuracy = evaluate(model, val_loader, device, class_weights)\n",
      "\u001b[36mCell\u001b[39m\u001b[36m \u001b[39m\u001b[32mIn[8]\u001b[39m\u001b[32m, line 20\u001b[39m, in \u001b[36mtrain_epoch\u001b[39m\u001b[34m(model, data_loader, optimizer, device, class_weights)\u001b[39m\n\u001b[32m     17\u001b[39m     loss.backward()\n\u001b[32m     18\u001b[39m     optimizer.step()\n\u001b[32m---> \u001b[39m\u001b[32m20\u001b[39m     total_loss = total_loss + \u001b[43mloss\u001b[49m\u001b[43m.\u001b[49m\u001b[43mitem\u001b[49m\u001b[43m(\u001b[49m\u001b[43m)\u001b[49m\n\u001b[32m     23\u001b[39m \u001b[38;5;28;01mreturn\u001b[39;00m total_loss / \u001b[38;5;28mlen\u001b[39m(data_loader)\n",
      "\u001b[31mRuntimeError\u001b[39m: CUDA error: unspecified launch failure\nCUDA kernel errors might be asynchronously reported at some other API call, so the stacktrace below might be incorrect.\nFor debugging consider passing CUDA_LAUNCH_BLOCKING=1\nCompile with `TORCH_USE_CUDA_DSA` to enable device-side assertions.\n"
     ]
    }
   ],
   "source": [
    "model = NewsClassifier(vocab_size=tokenizer.vocab_size, num_classes=6).to(device)\n",
    "path = 'bert_news_model_augmented.pt'\n",
    "\n",
    "optimizer = AdamW(model.parameters(), lr=5e-4)\n",
    "\n",
    "num_epochs = 10\n",
    "best_accuracy = 0\n",
    "\n",
    "train_losses = []\n",
    "val_losses = []\n",
    "val_accuracies = []\n",
    "\n",
    "for epoch in range(num_epochs):\n",
    "    print(f\"Epoch number {epoch + 1}/{num_epochs}\")\n",
    "\n",
    "    train_loss = train_epoch(model, train_loader, optimizer, device, class_weights)\n",
    "    print(f\"Train loss: {train_loss:.4f}\")\n",
    "\n",
    "    val_loss, accuracy = evaluate(model, val_loader, device, class_weights)\n",
    "    print(f\"Validation loss: {val_loss:.4f}\")\n",
    "    print(f\"Accuracy: {accuracy:.4f}\")\n",
    "\n",
    "    train_losses.append(train_loss)\n",
    "    val_losses.append(val_loss)\n",
    "    val_accuracies.append(accuracy)\n",
    "    \n",
    "    if best_accuracy < accuracy:\n",
    "        best_accuracy = accuracy\n",
    "        pt.save(model.state_dict(), path)\n",
    "\n",
    "    print()\n",
    "\n",
    "np.save(\"train_losses_aug.npy\", np.array(train_losses))\n",
    "np.save(\"val_losses_aug.npy\", np.array(val_losses))\n",
    "np.save(\"val_accuracies_aug.npy\", np.array(val_accuracies))"
   ]
  },
  {
   "cell_type": "code",
   "execution_count": 12,
   "id": "f665ad21-b88b-4ef6-93f8-31300f3a7e72",
   "metadata": {},
   "outputs": [
    {
     "data": {
      "image/png": "[encoded data removed]",
      "text/plain": [
       "<Figure size 1200x500 with 2 Axes>"
      ]
     },
     "metadata": {},
     "output_type": "display_data"
    }
   ],
   "source": [
    "train_losses = [0.8159, 0.6323, 0.5932, 0.5728, 0.5613]\n",
    "val_losses = [0.6633, 0.6281, 0.6392, 0.6068, 0.6217]\n",
    "val_accuracies = [0.7293, 0.7395, 0.7203, 0.7394, 0.7147]\n",
    "epochs = [1, 2, 3, 4, 5]\n",
    "\n",
    "plt.figure(figsize=(12, 5))\n",
    "\n",
    "plt.subplot(1, 2, 1)\n",
    "plt.plot(epochs, train_losses, label='Train Loss', marker='o')\n",
    "plt.plot(epochs, val_losses, label='Validation Loss', marker='o')\n",
    "plt.xlabel('Epoch')\n",
    "plt.ylabel('Loss')\n",
    "plt.title('Training vs Validation Loss')\n",
    "plt.legend()\n",
    "plt.grid(True)\n",
    "\n",
    "plt.subplot(1, 2, 2)\n",
    "plt.plot(epochs, val_accuracies, label='Validation Accuracy', color='green', marker='o')\n",
    "plt.xlabel('Epoch')\n",
    "plt.ylabel('Accuracy')\n",
    "plt.title('Validation Accuracy')\n",
    "plt.legend()\n",
    "plt.grid(True)\n",
    "\n",
    "plt.tight_layout()\n",
    "plt.savefig('loss_acc_augmented.jpg')\n",
    "plt.show()"
   ]
  },
  {
   "cell_type": "markdown",
   "id": "a9e858dd-c7f9-437c-99f9-d5fdc7ed4a1f",
   "metadata": {},
   "source": [
    "## Final Evaluation"
   ]
  },
  {
   "cell_type": "code",
   "execution_count": 13,
   "id": "7861f55c-dbaa-4f1c-aa3e-33e954c77d1e",
   "metadata": {},
   "outputs": [],
   "source": [
    "def inference(model, tokenizer, device, text):\n",
    "    model.eval()\n",
    "    with pt.no_grad():\n",
    "        encoding = tokenizer(\n",
    "            text,\n",
    "            add_special_tokens=True,\n",
    "            max_length=128,\n",
    "            return_token_type_ids=False,\n",
    "            padding='max_length',\n",
    "            truncation=True,\n",
    "            return_attention_mask=True,\n",
    "            return_tensors='pt',\n",
    "        )\n",
    "\n",
    "        input_ids = encoding['input_ids'].to(device)\n",
    "        attention_mask = encoding['attention_mask'].to(device)\n",
    "\n",
    "        logits = model(input_ids=input_ids, attn_mask=attention_mask)\n",
    "        _, predicted = pt.max(logits, dim=1)\n",
    " \n",
    "        predicted_label = predicted.item()\n",
    "        print(f\"Predicted Category: {label_map[predicted_label]}\")\n",
    "        return predicted_label"
   ]
  },
  {
   "cell_type": "code",
   "execution_count": 14,
   "id": "160e39b4-660a-43dc-b92b-217fca38ee4d",
   "metadata": {},
   "outputs": [
    {
     "name": "stdout",
     "output_type": "stream",
     "text": [
      "Label Map: {0: 'world', 1: 'sci/tech', 2: 'entertainment', 3: 'business', 4: 'sports', 5: 'health'}\n",
      "Predicted Category: business\n"
     ]
    }
   ],
   "source": [
    "tokenizer = BertTokenizer.from_pretrained('bert-base-uncased')\n",
    "model = NewsClassifier(vocab_size=tokenizer.vocab_size, num_classes=6).to(device)\n",
    "model.load_state_dict(pt.load('bert_news_model_augmented.pt', map_location=device))\n",
    "model.to(device)\n",
    "model.eval()\n",
    "\n",
    "with open(\"label_mappings.json\", \"r\") as f:\n",
    "    mappings = json.load(f)\n",
    "\n",
    "label_to_id = mappings[\"label_to_id\"]\n",
    "label_map = {int(k): v for k, v in mappings[\"label_map\"].items()} \n",
    "print(\"Label Map:\", label_map)\n",
    "\n",
    "text = \"The company’s quarterly profits exceeded analyst expectations and shares rose 5%.\"\n",
    "_ = inference(model, tokenizer, device, text)"
   ]
  },
  {
   "cell_type": "code",
   "execution_count": 15,
   "id": "e0249491-df0f-422a-a7ed-8677c8f1552a",
   "metadata": {},
   "outputs": [],
   "source": [
    "def evaluate_model(model, test_loader, device, label_map):\n",
    "    model.eval()\n",
    "    all_preds = []\n",
    "    all_labels = []\n",
    "\n",
    "    with torch.no_grad():\n",
    "        for batch in test_loader:\n",
    "            input_ids = batch['input_ids'].to(device)\n",
    "            attention_mask = batch['attention_mask'].to(device)\n",
    "            labels = batch['labels'].to(device)\n",
    "\n",
    "            outputs = model(input_ids, attention_mask)\n",
    "            preds = torch.argmax(outputs, dim=1)\n",
    "\n",
    "            all_preds.extend(preds.cpu().numpy())\n",
    "            all_labels.extend(labels.cpu().numpy())\n",
    "\n",
    "    target_names = [label_map[i] for i in range(len(label_map))]\n",
    "    \n",
    "    report = classification_report(all_labels, all_preds, target_names=target_names)\n",
    "    print(\"Classification Report:\\n\", report)\n",
    "\n",
    "    cm = confusion_matrix(all_labels, all_preds)\n",
    "    print(\"Confusion Matrix:\\n\", cm)\n",
    "\n",
    "    return report, cm"
   ]
  },
  {
   "cell_type": "code",
   "execution_count": 16,
   "id": "355beed9-bf3a-4048-b079-a37ec9616580",
   "metadata": {},
   "outputs": [
    {
     "name": "stdout",
     "output_type": "stream",
     "text": [
      "Classification Report:\n",
      "                precision    recall  f1-score   support\n",
      "\n",
      "        world       0.92      0.69      0.79     82697\n",
      "     sci/tech       0.66      0.86      0.75     24951\n",
      "entertainment       0.57      0.55      0.56     23112\n",
      "     business       0.71      0.69      0.70     22481\n",
      "       sports       0.76      0.96      0.85     20893\n",
      "       health       0.56      0.93      0.70     12869\n",
      "\n",
      "     accuracy                           0.74    187003\n",
      "    macro avg       0.69      0.78      0.72    187003\n",
      " weighted avg       0.77      0.74      0.74    187003\n",
      "\n",
      "Confusion Matrix:\n",
      " [[56885  4839  7871  4037  3590  5475]\n",
      " [  606 21410   800   864   193  1078]\n",
      " [ 3299  1924 12665  1396  2281  1547]\n",
      " [  952  3858   606 15612   237  1216]\n",
      " [  169   165   246    71 20086   156]\n",
      " [  168   241   218   118    95 12029]]\n"
     ]
    }
   ],
   "source": [
    "report, cm = evaluate_model(model, test_loader, device, label_map)"
   ]
  },
  {
   "cell_type": "code",
   "execution_count": 23,
   "id": "d6de7e50-bb10-4fa2-9608-6a763ef76c37",
   "metadata": {},
   "outputs": [
    {
     "data": {
      "image/png": "[encoded data removed]",
      "text/plain": [
       "<Figure size 1000x800 with 1 Axes>"
      ]
     },
     "metadata": {},
     "output_type": "display_data"
    }
   ],
   "source": [
    "confusion_matrix_data = [[56885, 4839, 7871, 4037, 3590, 5475],\n",
    "                         [606, 21410, 800, 864, 193, 1078],\n",
    "                         [3299, 1924, 12665, 1396, 2281, 1547],\n",
    "                         [952, 3858, 606, 15612, 237, 1216],\n",
    "                         [169, 165, 246, 71, 20086, 156],\n",
    "                         [168, 241, 218, 118, 95, 12029]]\n",
    "cm = np.array(confusion_matrix_data)\n",
    "\n",
    "label_map = {0: 'world', 1: 'sci/tech', 2: 'entertainment', 3: 'business', 4: 'sports', 5: 'health'}\n",
    "\n",
    "class_names = [label_map[i] for i in sorted(label_map.keys())]\n",
    "\n",
    "plt.figure(figsize=(10, 8))\n",
    "sns.heatmap(cm, annot=True, fmt='d', cmap='Blues',\n",
    "            xticklabels=class_names, yticklabels=class_names,\n",
    "            linewidths=.5, cbar=False)\n",
    "\n",
    "plt.title('Confusion Matrix', fontsize=16)\n",
    "plt.xlabel('Predicted Label', fontsize=14)\n",
    "plt.ylabel('True Label', fontsize=14)\n",
    "plt.xticks(rotation=45, ha='right')\n",
    "plt.yticks(rotation=0)\n",
    "plt.tight_layout()\n",
    "plt.savefig('cm_augmented.pdf')\n",
    "plt.show()"
   ]
  }
 ],
 "metadata": {
  "kernelspec": {
   "display_name": "Python 3 (ipykernel)",
   "language": "python",
   "name": "python3"
  },
  "language_info": {
   "codemirror_mode": {
    "name": "ipython",
    "version": 3
   },
   "file_extension": ".py",
   "mimetype": "text/x-python",
   "name": "python",
   "nbconvert_exporter": "python",
   "pygments_lexer": "ipython3",
   "version": "3.12.3"
  }
 },
 "nbformat": 4,
 "nbformat_minor": 5
}
